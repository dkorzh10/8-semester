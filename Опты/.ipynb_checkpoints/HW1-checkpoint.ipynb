{
 "cells": [
  {
   "cell_type": "markdown",
   "metadata": {},
   "source": [
    "# Задание 1\n",
    "## Метод дихотомии\n",
    "Пусть заданы a, b, функция f(x)."
   ]
  },
  {
   "cell_type": "code",
   "execution_count": 52,
   "metadata": {},
   "outputs": [],
   "source": [
    "import numpy as np\n",
    "import scipy.optimize\n",
    "from tqdm.auto import tqdm\n",
    "from matplotlib import pyplot as plt"
   ]
  },
  {
   "cell_type": "code",
   "execution_count": 78,
   "metadata": {},
   "outputs": [],
   "source": [
    "a = 3\n",
    "b = 10\n",
    "\n",
    "def f(x):\n",
    "    return (x-5)**2 - 2"
   ]
  },
  {
   "cell_type": "markdown",
   "metadata": {},
   "source": [
    "Зададим также критерий остановки."
   ]
  },
  {
   "cell_type": "code",
   "execution_count": 10,
   "metadata": {},
   "outputs": [],
   "source": [
    "k_max = 100"
   ]
  },
  {
   "cell_type": "code",
   "execution_count": 152,
   "metadata": {},
   "outputs": [],
   "source": [
    "def dichotomy(f, a, b, k_max, write = None):\n",
    "    x = (1/2)*(a+b)\n",
    "    for k in range(k_max):\n",
    "        y = (1/2)*(a+x)\n",
    "        if f(y) <= f(x):\n",
    "            b = x\n",
    "            x = y\n",
    "        else:\n",
    "            z = (1/2)*(x+b)\n",
    "            if f(x) <= f(z):\n",
    "                a = y\n",
    "                b = z\n",
    "            else:\n",
    "                a = x\n",
    "                x = z\n",
    "        if write is not None:\n",
    "            write.append(f(x))\n",
    "    return f(x)"
   ]
  },
  {
   "cell_type": "code",
   "execution_count": 12,
   "metadata": {},
   "outputs": [
    {
     "name": "stdout",
     "output_type": "stream",
     "text": [
      "-2.0\n"
     ]
    }
   ],
   "source": [
    "dichotomy(f, a, b, k_max)"
   ]
  },
  {
   "cell_type": "markdown",
   "metadata": {},
   "source": [
    "## Метод золотого сечения"
   ]
  },
  {
   "cell_type": "code",
   "execution_count": 203,
   "metadata": {},
   "outputs": [],
   "source": [
    "def get_y(a, b):\n",
    "    return a + (2/(3 + np.sqrt(5)))*(b-a)\n",
    "\n",
    "def get_z(a, b):\n",
    "    return a + ((np.sqrt(5) - 1)/2)*(b-a)\n",
    "\n",
    "def gold(f, a, b, k_max, write = None):\n",
    "    y = get_y(a, b)\n",
    "    z = get_z(a, b)\n",
    "    for k in range(k_max):\n",
    "        if f(y) <= f(z):\n",
    "            b = z\n",
    "            z = y\n",
    "            y = get_y(a, b)\n",
    "        else:\n",
    "            a = y\n",
    "            y = z\n",
    "            z = get_z(a, b)\n",
    "        if write is not None:\n",
    "            write.append(f((a+b)/2))\n",
    "    return f((a+b)/2)"
   ]
  },
  {
   "cell_type": "code",
   "execution_count": 27,
   "metadata": {},
   "outputs": [
    {
     "name": "stdout",
     "output_type": "stream",
     "text": [
      "-1.9999999999999998\n"
     ]
    }
   ],
   "source": [
    "gold(f, a, b, k_max)"
   ]
  },
  {
   "cell_type": "markdown",
   "metadata": {},
   "source": [
    "## Метод Фибоначчи"
   ]
  },
  {
   "cell_type": "code",
   "execution_count": 46,
   "metadata": {},
   "outputs": [],
   "source": [
    "fibonacci = [0, 1]\n",
    "for i in range(2, 101):\n",
    "    fibonacci.append(fibonacci[i-2] + fibonacci[i-1])"
   ]
  },
  {
   "cell_type": "code",
   "execution_count": 202,
   "metadata": {},
   "outputs": [],
   "source": [
    "def get_l(k_max, k, a, b):\n",
    "    return a + (fibonacci[k_max - k - 1]/fibonacci[k_max - k + 1])*(b-a)\n",
    "\n",
    "def get_m(k_max, k, a, b):\n",
    "    return a + (fibonacci[k_max - k]/fibonacci[k_max - k + 1])*(b-a)\n",
    "\n",
    "def fib(f, a, b, k_max, write = None):\n",
    "    k_max += 1\n",
    "    l = get_l(k_max, 1, a, b)\n",
    "    m = get_m(k_max, 1, a, b)\n",
    "    for k in range(2, k_max + 1):\n",
    "        if f(l) <= f(m):\n",
    "            b = m\n",
    "            m = l\n",
    "            l = get_l(k_max, k, a, b)\n",
    "        else:\n",
    "            a = l\n",
    "            l = m\n",
    "            m = get_m(k_max, k, a, b)\n",
    "        if write is not None:\n",
    "            write.append(f((a+b)/2))\n",
    "        \n",
    "    x = (a+b)/2\n",
    "    return f(x)"
   ]
  },
  {
   "cell_type": "code",
   "execution_count": 80,
   "metadata": {},
   "outputs": [
    {
     "data": {
      "text/plain": [
       "-1.9999999999999998"
      ]
     },
     "execution_count": 80,
     "metadata": {},
     "output_type": "execute_result"
    }
   ],
   "source": [
    "fib(f, a, b, 100)"
   ]
  },
  {
   "cell_type": "markdown",
   "metadata": {},
   "source": [
    "## Сравнение"
   ]
  },
  {
   "cell_type": "code",
   "execution_count": 216,
   "metadata": {},
   "outputs": [],
   "source": [
    "a = 2\n",
    "b = 15\n",
    "k_max = 15\n",
    "\n",
    "def f(x):\n",
    "    return -np.log(x) + ((x-5)**2)/20"
   ]
  },
  {
   "cell_type": "code",
   "execution_count": 217,
   "metadata": {},
   "outputs": [
    {
     "data": {
      "image/png": "[encoded data removed]",
      "text/plain": [
       "<Figure size 432x288 with 1 Axes>"
      ]
     },
     "metadata": {
      "needs_background": "light"
     },
     "output_type": "display_data"
    }
   ],
   "source": [
    "x = np.linspace(a, b)\n",
    "plt.plot(x, f(x))\n",
    "plt.xlabel('x')\n",
    "plt.ylabel('f(x)')\n",
    "plt.show()"
   ]
  },
  {
   "cell_type": "code",
   "execution_count": 218,
   "metadata": {},
   "outputs": [],
   "source": [
    "x = 5/2 + np.sqrt(65)/2\n",
    "f_exact = f(x)"
   ]
  },
  {
   "cell_type": "code",
   "execution_count": 219,
   "metadata": {},
   "outputs": [],
   "source": [
    "fib_res = []\n",
    "gold_res = []\n",
    "dich_res = []"
   ]
  },
  {
   "cell_type": "code",
   "execution_count": 220,
   "metadata": {
    "scrolled": true
   },
   "outputs": [
    {
     "name": "stdout",
     "output_type": "stream",
     "text": [
      "CPU times: user 3 µs, sys: 1 µs, total: 4 µs\n",
      "Wall time: 6.91 µs\n",
      "Ошибка Фибоначчи 1.63e-06%\n"
     ]
    }
   ],
   "source": [
    "%time\n",
    "print('Ошибка Фибоначчи {:.2e}%'.format(np.abs((f_exact - fib(f, a, b, k_max, write = fib_res))/f_exact)))"
   ]
  },
  {
   "cell_type": "code",
   "execution_count": 221,
   "metadata": {},
   "outputs": [
    {
     "name": "stdout",
     "output_type": "stream",
     "text": [
      "CPU times: user 3 µs, sys: 1 µs, total: 4 µs\n",
      "Wall time: 6.91 µs\n",
      "Ошибка золотого сечения 3.38e-08%\n"
     ]
    }
   ],
   "source": [
    "%time\n",
    "print('Ошибка золотого сечения {:.2e}%'.format(np.abs((gold(f, a, b, k_max, write = gold_res) - f_exact)/f_exact)))"
   ]
  },
  {
   "cell_type": "code",
   "execution_count": 222,
   "metadata": {},
   "outputs": [
    {
     "name": "stdout",
     "output_type": "stream",
     "text": [
      "CPU times: user 2 µs, sys: 0 ns, total: 2 µs\n",
      "Wall time: 5.96 µs\n",
      "Ошибка дихотомии 3.00e-10%\n"
     ]
    }
   ],
   "source": [
    "%time\n",
    "print('Ошибка дихотомии {:.2e}%'.format(np.abs((dichotomy(f, a, b, k_max, write = dich_res) - f_exact)/f_exact)))"
   ]
  },
  {
   "cell_type": "code",
   "execution_count": 223,
   "metadata": {},
   "outputs": [
    {
     "data": {
      "image/png": "[encoded data removed]",
      "text/plain": [
       "<Figure size 432x288 with 1 Axes>"
      ]
     },
     "metadata": {
      "needs_background": "light"
     },
     "output_type": "display_data"
    }
   ],
   "source": [
    "plt.plot(fib_res)\n",
    "plt.plot(gold_res)\n",
    "plt.plot(dich_res)\n",
    "plt.legend(['fibonacci', 'gold', 'dichotomy'])\n",
    "plt.xlabel('iteration')\n",
    "plt.ylabel('f(x)')\n",
    "plt.show()"
   ]
  },
  {
   "cell_type": "code",
   "execution_count": 232,
   "metadata": {
    "scrolled": true
   },
   "outputs": [
    {
     "data": {
      "image/png": "[encoded data removed]",
      "text/plain": [
       "<Figure size 432x288 with 1 Axes>"
      ]
     },
     "metadata": {
      "needs_background": "light"
     },
     "output_type": "display_data"
    }
   ],
   "source": [
    "plt.plot(fib_res)\n",
    "plt.plot(gold_res)\n",
    "plt.plot(dich_res)\n",
    "plt.legend(['fibonacci', 'gold', 'dichotomy'])\n",
    "plt.xlim(9, 14)\n",
    "plt.ylim(-1.759365, -1.759335)\n",
    "plt.xlabel('iteration')\n",
    "plt.ylabel('f(x)')\n",
    "plt.show()"
   ]
  },
  {
   "cell_type": "markdown",
   "metadata": {},
   "source": [
    "Все методы сходятся достаточно быстро. Метод Фибоначчи в данном случае оказался наименее эффективным - он занял больше всего времени и выдал самую большую ошибку."
   ]
  },
  {
   "cell_type": "markdown",
   "metadata": {},
   "source": [
    "# Задание 2\n"
   ]
  },
  {
   "cell_type": "code",
   "execution_count": 236,
   "metadata": {},
   "outputs": [],
   "source": [
    "def f(x):\n",
    "    return np.sum(x**2)\n",
    "\n",
    "def phi(x):\n",
    "    return 3 + 5*x\n",
    "\n",
    "def g(x):\n",
    "    return phi(f(x))"
   ]
  },
  {
   "cell_type": "code",
   "execution_count": 237,
   "metadata": {},
   "outputs": [],
   "source": [
    "def f_gr(x):\n",
    "    return 2*x\n",
    "\n",
    "def g_gr(x):\n",
    "    return 2*x*5*f(x)"
   ]
  },
  {
   "cell_type": "code",
   "execution_count": 238,
   "metadata": {},
   "outputs": [],
   "source": [
    "def inv_hessian_f(x):\n",
    "    return np.linalg.inv(2*np.ones((2, 2)))\n",
    "\n",
    "def inv_hessian_g(x):\n",
    "    return np.linalg.inv(10*np.ones((2, 2)))"
   ]
  },
  {
   "cell_type": "code",
   "execution_count": 239,
   "metadata": {},
   "outputs": [],
   "source": [
    "def newton(x, f, f_gr, inv_hessian_f):\n",
    "    return x - np.matmul(inv_hessian_f(x), f_gr(x))"
   ]
  },
  {
   "cell_type": "code",
   "execution_count": 240,
   "metadata": {},
   "outputs": [],
   "source": [
    "def alpha_f(x):\n",
    "    return 1/2\n",
    "\n",
    "def alpha_g(x):\n",
    "    return 1/10"
   ]
  },
  {
   "cell_type": "code",
   "execution_count": 241,
   "metadata": {},
   "outputs": [],
   "source": [
    "def quick_descent(x, f, f_gr, alpha_f):\n",
    "    return x - alpha_f(x)*f_gr(x)"
   ]
  },
  {
   "cell_type": "markdown",
   "metadata": {},
   "source": [
    "## Задание 6"
   ]
  },
  {
   "cell_type": "code",
   "execution_count": 19,
   "metadata": {},
   "outputs": [],
   "source": [
    "def f(x):\n",
    "    return np.log(np.exp(x) + np.exp(-x))\n",
    "def grad_f(x):\n",
    "    return np.sinh(x)/np.cosh(x)\n",
    "def hess_f(x):\n",
    "    return 1 - grad_f(x)**2"
   ]
  },
  {
   "cell_type": "code",
   "execution_count": 26,
   "metadata": {},
   "outputs": [],
   "source": [
    "def next_x(x):\n",
    "    return x - grad_f(x)/hess_f(x)\n",
    "\n",
    "k = 5"
   ]
  },
  {
   "cell_type": "code",
   "execution_count": 27,
   "metadata": {
    "scrolled": true
   },
   "outputs": [
    {
     "data": {
      "image/png": "[encoded data removed]",
      "text/plain": [
       "<Figure size 432x288 with 1 Axes>"
      ]
     },
     "metadata": {
      "needs_background": "light"
     },
     "output_type": "display_data"
    }
   ],
   "source": [
    "x = np.linspace(-1, 3)\n",
    "plt.plot(x, f(x))\n",
    "plt.xlabel('x')\n",
    "plt.ylabel('f(x)')\n",
    "plt.show()"
   ]
  },
  {
   "cell_type": "code",
   "execution_count": 45,
   "metadata": {},
   "outputs": [
    {
     "name": "stdout",
     "output_type": "stream",
     "text": [
      "-0.8134302039235091\n",
      "0.409402316583386\n",
      "-0.04730491645561585\n",
      "7.06028036445705e-05\n",
      "-2.3462517193852117e-13\n"
     ]
    }
   ],
   "source": [
    "x = 1\n",
    "x_1 = [x]\n",
    "for i in range(k):\n",
    "    x = next_x(x)\n",
    "    x_1.append(x)\n",
    "    print(x)"
   ]
  },
  {
   "cell_type": "code",
   "execution_count": 51,
   "metadata": {
    "scrolled": true
   },
   "outputs": [
    {
     "name": "stdout",
     "output_type": "stream",
     "text": [
      "-1.128552585267947\n",
      "1.2341311330391003\n",
      "-1.6951659799228023\n",
      "5.715360100379732\n",
      "-23021.35648583147\n"
     ]
    }
   ],
   "source": [
    "x = 1.1\n",
    "x_11 = [x]\n",
    "for i in range(k):\n",
    "    x = next_x(x)\n",
    "    x_11.append(x)\n",
    "    print(x)"
   ]
  },
  {
   "cell_type": "markdown",
   "metadata": {},
   "source": [
    "Видно, что из начальной точки 1.1 метод Ньютона расходится."
   ]
  },
  {
   "cell_type": "code",
   "execution_count": 47,
   "metadata": {},
   "outputs": [],
   "source": [
    "def d_next_x(x, a):\n",
    "    a *= 1/2\n",
    "    x = x - a*grad_f(x)/hess_f(x)\n",
    "    return x, a"
   ]
  },
  {
   "cell_type": "code",
   "execution_count": 48,
   "metadata": {},
   "outputs": [
    {
     "name": "stdout",
     "output_type": "stream",
     "text": [
      "-0.014276292633973453\n",
      "-0.01070673450782196\n",
      "-0.009368290412202775\n",
      "-0.008782738002224354\n",
      "-0.008508263325488057\n"
     ]
    }
   ],
   "source": [
    "x = 1.1\n",
    "a = 1\n",
    "x_d = [x]\n",
    "for i in range(k):\n",
    "    x, a = d_next_x(x, a)\n",
    "    x_d.append(x)\n",
    "    print(x)"
   ]
  },
  {
   "cell_type": "markdown",
   "metadata": {},
   "source": [
    "Демпфированный метод решает эту проблему."
   ]
  },
  {
   "cell_type": "markdown",
   "metadata": {},
   "source": [
    "Построим графики сходимости."
   ]
  },
  {
   "cell_type": "code",
   "execution_count": 56,
   "metadata": {},
   "outputs": [
    {
     "data": {
      "image/png": "[encoded data removed]",
      "text/plain": [
       "<Figure size 432x288 with 1 Axes>"
      ]
     },
     "metadata": {
      "needs_background": "light"
     },
     "output_type": "display_data"
    }
   ],
   "source": [
    "plt.plot(x_1)\n",
    "plt.plot(x_11[:-1])\n",
    "plt.plot(x_d)\n",
    "plt.legend(['classic from x = 1', 'classic from x = 1.1', 'damped from x = 1.1'])\n",
    "plt.xlabel('iteration')\n",
    "plt.ylabel('x')\n",
    "plt.show()"
   ]
  },
  {
   "cell_type": "markdown",
   "metadata": {},
   "source": [
    "Демпфированный метод сходится более равномерно, но, по крайней мере при таком выборе альфа, высокой точности классический из правильной точки достигает намного быстрее (порядка e-05 уже на четвертой итерации)."
   ]
  },
  {
   "cell_type": "markdown",
   "metadata": {},
   "source": [
    "## Задание 7"
   ]
  },
  {
   "cell_type": "code",
   "execution_count": 101,
   "metadata": {},
   "outputs": [],
   "source": [
    "k = 100"
   ]
  },
  {
   "cell_type": "code",
   "execution_count": 122,
   "metadata": {},
   "outputs": [],
   "source": [
    "def f(x):\n",
    "    x1, x2 = x\n",
    "    return 100*(x2-x1**2)**2 + (1-x1)**2\n",
    "def grad_f(x):\n",
    "    x1, x2 = x\n",
    "    return np.array([-2*x1*200*(x2-x1**2) - 2*(1-x1), 200*(x2-x1**2)])\n",
    "def hess_f(x):\n",
    "    x1, x2 = x\n",
    "    a11 = 1200*x1**2 + 2\n",
    "    a12 = -400*x1\n",
    "    a21 = -400*x1\n",
    "    a22 = 200\n",
    "    return np.array([[a11, a12], [a21, a22]])"
   ]
  },
  {
   "cell_type": "code",
   "execution_count": 7,
   "metadata": {},
   "outputs": [],
   "source": [
    "def get_a(d):\n",
    "    a = 0.9\n",
    "    t = 0.9\n",
    "    eps = 0.5\n",
    "    while True:\n",
    "        f1 = f(x - a*d)\n",
    "        f2 = f(x) - eps*a*np.dot(d, d)\n",
    "        if f1 < f2:\n",
    "            return a\n",
    "        else:\n",
    "            a *= t"
   ]
  },
  {
   "cell_type": "code",
   "execution_count": 8,
   "metadata": {},
   "outputs": [],
   "source": [
    "def next_x(x, a):\n",
    "    return x - a*grad_f(x)"
   ]
  },
  {
   "cell_type": "code",
   "execution_count": 9,
   "metadata": {},
   "outputs": [],
   "source": [
    "f_1 = []\n",
    "a_1 = []\n",
    "x = np.array([1.2, 1.2])\n",
    "for i in range(k):\n",
    "    a = get_a(grad_f(x))\n",
    "    x = next_x(x, a)\n",
    "    f_1.append(f(x))\n",
    "    a_1.append(a)"
   ]
  },
  {
   "cell_type": "code",
   "execution_count": 10,
   "metadata": {},
   "outputs": [],
   "source": [
    "f_2 = []\n",
    "a_2 = []\n",
    "x = np.array([-1.2, 1])\n",
    "for i in range(k):\n",
    "    a = get_a(grad_f(x))\n",
    "    x = next_x(x, a)\n",
    "    f_2.append(f(x))\n",
    "    a_2.append(a)"
   ]
  },
  {
   "cell_type": "code",
   "execution_count": 11,
   "metadata": {
    "scrolled": true
   },
   "outputs": [
    {
     "data": {
      "image/png": "[encoded data removed]",
      "text/plain": [
       "<Figure size 432x288 with 1 Axes>"
      ]
     },
     "metadata": {
      "needs_background": "light"
     },
     "output_type": "display_data"
    }
   ],
   "source": [
    "plt.plot(f_1)\n",
    "plt.plot(f_2)\n",
    "plt.legend(['x0 = (1.2, 1.2)', 'x0 = (-1.2, 1)'])\n",
    "plt.xlabel('iteration')\n",
    "plt.ylabel('f(x)')\n",
    "plt.ylim(0, 0.1)\n",
    "plt.show()"
   ]
  },
  {
   "cell_type": "markdown",
   "metadata": {},
   "source": [
    "Вне зависимости от начальных условий метод сходится (хотя и медленно)."
   ]
  },
  {
   "cell_type": "code",
   "execution_count": 12,
   "metadata": {
    "scrolled": true
   },
   "outputs": [
    {
     "data": {
      "image/png": "[encoded data removed]",
      "text/plain": [
       "<Figure size 432x288 with 1 Axes>"
      ]
     },
     "metadata": {
      "needs_background": "light"
     },
     "output_type": "display_data"
    }
   ],
   "source": [
    "plt.plot(a_1)\n",
    "plt.plot(a_2)\n",
    "plt.legend(['x0 = (1.2, 1.2)', 'x0 = (-1.2, 1)'])\n",
    "plt.xlabel('iteration')\n",
    "plt.ylabel('a')\n",
    "plt.show()"
   ]
  },
  {
   "cell_type": "markdown",
   "metadata": {},
   "source": [
    "Длина шага при таком методе меняется достаточно хаотично, пики = относительно резкие изменения функции."
   ]
  },
  {
   "cell_type": "code",
   "execution_count": 131,
   "metadata": {},
   "outputs": [],
   "source": [
    "k = 10\n",
    "x0 = np.array([-1.2, 1])"
   ]
  },
  {
   "cell_type": "code",
   "execution_count": 132,
   "metadata": {},
   "outputs": [],
   "source": [
    "def next_B(B, s, y):\n",
    "    return (np.eye(2) - np.outer(s, y)/(np.dot(y, s))).dot(B).dot((np.eye(2) - np.outer(y, s)/(np.dot(y, s)))) + np.outer(s, s)/np.dot(y, s)\n"
   ]
  },
  {
   "cell_type": "code",
   "execution_count": 133,
   "metadata": {},
   "outputs": [],
   "source": [
    "def get_alpha(x, B = np.eye(2)):\n",
    "    return scipy.optimize.minimize(lambda a: f(x - a*B.dot(grad_f(x))), x0 = 1, bounds = [(1e-5, 1)])['x']"
   ]
  },
  {
   "cell_type": "code",
   "execution_count": 134,
   "metadata": {},
   "outputs": [],
   "source": [
    "f_bfgs = []\n",
    "B = np.eye(2)\n",
    "x = x0\n",
    "gr_f = grad_f(x)\n",
    "for i in range(k):\n",
    "    alpha = get_alpha(x, B)\n",
    "    x_new = x - alpha*B.dot(gr_f)\n",
    "    gr_f_new = grad_f(x_new)\n",
    "    y = gr_f_new - gr_f\n",
    "    s = x_new - x\n",
    "    B = next_B(B, s, y)\n",
    "    x = x_new\n",
    "    gr_f = gr_f_new\n",
    "    f_bfgs.append(f(x_new))"
   ]
  },
  {
   "cell_type": "code",
   "execution_count": 135,
   "metadata": {},
   "outputs": [],
   "source": [
    "def newton(x):\n",
    "    return x - np.linalg.inv(hess_f(x)).dot(grad_f(x))"
   ]
  },
  {
   "cell_type": "code",
   "execution_count": 136,
   "metadata": {},
   "outputs": [],
   "source": [
    "f_newton = []\n",
    "x = x0\n",
    "for i in range(k):\n",
    "    x = newton(x)\n",
    "    f_newton.append(f(x))"
   ]
  },
  {
   "cell_type": "code",
   "execution_count": 137,
   "metadata": {},
   "outputs": [
    {
     "data": {
      "image/png": "[encoded data removed]",
      "text/plain": [
       "<Figure size 432x288 with 1 Axes>"
      ]
     },
     "metadata": {
      "needs_background": "light"
     },
     "output_type": "display_data"
    }
   ],
   "source": [
    "plt.plot(f_bfgs)\n",
    "plt.plot(f_newton)\n",
    "plt.legend(['BFGS', 'Newton'])\n",
    "plt.xlabel('iteration')\n",
    "plt.ylabel('f(x)')\n",
    "# plt.ylim(0, 0.1)\n",
    "plt.show()"
   ]
  },
  {
   "cell_type": "markdown",
   "metadata": {},
   "source": [
    "В данном случае оба метода сходятся очень быстро, причем BFGS быстрее (вероятно, за счет выбора длины шага). Виден явный контраст с методами первого порядка."
   ]
  },
  {
   "cell_type": "code",
   "execution_count": null,
   "metadata": {},
   "outputs": [],
   "source": []
  }
 ],
 "metadata": {
  "kernelspec": {
   "display_name": "Python 3",
   "language": "python",
   "name": "python3"
  },
  "language_info": {
   "codemirror_mode": {
    "name": "ipython",
    "version": 3
   },
   "file_extension": ".py",
   "mimetype": "text/x-python",
   "name": "python",
   "nbconvert_exporter": "python",
   "pygments_lexer": "ipython3",
   "version": "3.7.4"
  }
 },
 "nbformat": 4,
 "nbformat_minor": 2
}
