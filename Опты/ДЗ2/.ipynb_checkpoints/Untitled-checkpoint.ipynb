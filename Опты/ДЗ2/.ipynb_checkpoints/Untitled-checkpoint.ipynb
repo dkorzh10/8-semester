{
 "cells": [
  {
   "cell_type": "code",
   "execution_count": 14,
   "metadata": {},
   "outputs": [],
   "source": [
    "import liboptpy.base_optimizer as base\n",
    "import numpy as np\n",
    "import random\n",
    "import liboptpy.unconstr_solvers.fo as fo\n",
    "import liboptpy.step_size as ss\n",
    "import matplotlib.pyplot as plt\n",
    "%matplotlib inline"
   ]
  },
  {
   "cell_type": "code",
   "execution_count": 248,
   "metadata": {},
   "outputs": [],
   "source": [
    "from math import log, exp\n",
    "import numpy as np\n",
    "\n",
    "def f(x,A,b):\n",
    "    Ax=A.dot(x)\n",
    "    y = (0.5*x.dot(Ax) + b)\n",
    "    \n",
    "    return y\n",
    "\n",
    "def grad(x,A,b):\n",
    "    y = A.dot(x) + b\n",
    "    return  y\n"
   ]
  },
  {
   "cell_type": "code",
   "execution_count": 260,
   "metadata": {},
   "outputs": [],
   "source": [
    "s = 0.25\n",
    "numiter = 1000\n",
    "#x0 = np.array([1, 1])\n",
    "\n",
    "\n",
    "x0=np.array([0 for i in range(n)])\n",
    "x1=np.array([1 for i in range(n)])"
   ]
  },
  {
   "cell_type": "code",
   "execution_count": 261,
   "metadata": {},
   "outputs": [],
   "source": [
    "def MatGen(kappa,n):\n",
    "    Amas=np.random.uniform(1, kappa, size=(n, n))\n",
    "    Amas=np.diag(np.diag(Amas))\n",
    "    Amas[0,0]=1\n",
    "    Amas[n-1,n-1]=kappa\n",
    "    A=Amas\n",
    "    \n",
    "    return A"
   ]
  },
  {
   "cell_type": "code",
   "execution_count": 262,
   "metadata": {},
   "outputs": [],
   "source": [
    "def bGen(n):\n",
    "    b = np.random.randint(-10,10, size=n)\n",
    "    return b\n",
    "    "
   ]
  },
  {
   "cell_type": "code",
   "execution_count": 263,
   "metadata": {},
   "outputs": [],
   "source": [
    "varkap=([1,100,10000])\n",
    "varn=([2,10,1000])"
   ]
  },
  {
   "cell_type": "code",
   "execution_count": 264,
   "metadata": {},
   "outputs": [],
   "source": [
    "import liboptpy.base_optimizer as base\n",
    "import scipy.optimize as scopt\n",
    "import liboptpy.restarts as restarts\n",
    "import numpy as np\n",
    "import liboptpy.unconstr_solvers.fo as fo\n",
    "import liboptpy.step_size as ss\n",
    "import matplotlib.pyplot as plt\n",
    "%matplotlib inline\n",
    "from numpy import linalg as LA\n",
    "import math\n",
    "\n",
    "\n"
   ]
  },
  {
   "cell_type": "code",
   "execution_count": 265,
   "metadata": {},
   "outputs": [],
   "source": [
    "def ConjMeth(x0,A,b,epsilon): \n",
    "    h0=grad(x0,A,b)\n",
    "    xk=x0\n",
    "    hk=h0\n",
    "    alphak=0\n",
    "    gradfx0=grad(x0,A,b)\n",
    "    k=0\n",
    "    #for k in range(100):\n",
    "    while((LA.norm(grad(xk,A,b)))/(LA.norm(grad(x0,A,b)))>= math.sqrt(epsilon)):\n",
    "        \n",
    "        alphak=-(grad(xk,A,b).dot(hk))/(hk.dot(A.dot(hk)))\n",
    "        xk1=xk+alphak*hk\n",
    "        betak=(grad(xk1,A,b).dot(A.dot(hk)))/(hk.dot(A.dot(hk)))\n",
    "        hk1=grad(xk1,A,b)-betak*hk\n",
    "        xk=xk1\n",
    "        hk=hk1\n",
    "        k+=1\n",
    "    return k\n",
    "        \n",
    "        \n",
    "    "
   ]
  },
  {
   "cell_type": "code",
   "execution_count": 266,
   "metadata": {
    "scrolled": false
   },
   "outputs": [
    {
     "data": {
      "text/plain": [
       "2"
      ]
     },
     "execution_count": 266,
     "metadata": {},
     "output_type": "execute_result"
    }
   ],
   "source": [
    "ConjMeth(x0, A, b,0.001)"
   ]
  },
  {
   "cell_type": "markdown",
   "metadata": {},
   "source": [
    "## Вот тут можно поиграться с методом сопр град\n"
   ]
  },
  {
   "cell_type": "markdown",
   "metadata": {},
   "source": [
    "### сделать нормальную таблицу или графики уже не успеваю, но мы пробегаем три значения каппы и три значения размерности. руками меняем эпсилон. в первом случае x0=нулевой"
   ]
  },
  {
   "cell_type": "markdown",
   "metadata": {},
   "source": [
    "### в res записываем число номер шага k"
   ]
  },
  {
   "cell_type": "code",
   "execution_count": 293,
   "metadata": {},
   "outputs": [
    {
     "name": "stdout",
     "output_type": "stream",
     "text": [
      "1 2\n",
      "1 10\n",
      "1 1000\n",
      "100 2\n",
      "100 10\n",
      "100 1000\n",
      "10000 2\n",
      "10000 10\n",
      "10000 1000\n"
     ]
    }
   ],
   "source": [
    "res=[]\n",
    "for i in varkap:\n",
    "    for j in varn:\n",
    "        x0=np.array([0 for i in range(j)])\n",
    "        x1=np.array([1 for i in range(j)])\n",
    "        print(i,j)\n",
    "        res.append(((ConjMeth(x0,MatGen(i,j),bGen(j),0.00001))))\n",
    "        "
   ]
  },
  {
   "cell_type": "code",
   "execution_count": 294,
   "metadata": {},
   "outputs": [
    {
     "data": {
      "text/plain": [
       "[1, 1, 1, 2, 7, 28, 2, 10, 76]"
      ]
     },
     "execution_count": 294,
     "metadata": {},
     "output_type": "execute_result"
    }
   ],
   "source": [
    "res"
   ]
  },
  {
   "cell_type": "code",
   "execution_count": 295,
   "metadata": {},
   "outputs": [
    {
     "name": "stdout",
     "output_type": "stream",
     "text": [
      "1 2\n",
      "1 10\n",
      "1 1000\n",
      "100 2\n",
      "100 10\n",
      "100 1000\n",
      "10000 2\n",
      "10000 10\n",
      "10000 1000\n"
     ]
    }
   ],
   "source": [
    "res=[]\n",
    "for i in varkap:\n",
    "    for j in varn:\n",
    "        x0=np.array([0 for i in range(j)])\n",
    "        x1=np.array([1 for i in range(j)])\n",
    "        print(i,j)\n",
    "        res.append(((ConjMeth(x1,MatGen(i,j),bGen(j),0.00001))))\n",
    "        "
   ]
  },
  {
   "cell_type": "code",
   "execution_count": 296,
   "metadata": {},
   "outputs": [
    {
     "data": {
      "text/plain": [
       "[1, 1, 1, 2, 9, 17, 1, 9, 13]"
      ]
     },
     "execution_count": 296,
     "metadata": {},
     "output_type": "execute_result"
    }
   ],
   "source": [
    "res"
   ]
  },
  {
   "cell_type": "markdown",
   "metadata": {},
   "source": []
  },
  {
   "cell_type": "code",
   "execution_count": null,
   "metadata": {},
   "outputs": [],
   "source": []
  },
  {
   "cell_type": "code",
   "execution_count": null,
   "metadata": {},
   "outputs": [],
   "source": []
  },
  {
   "cell_type": "code",
   "execution_count": null,
   "metadata": {},
   "outputs": [],
   "source": []
  },
  {
   "cell_type": "code",
   "execution_count": null,
   "metadata": {},
   "outputs": [],
   "source": []
  },
  {
   "cell_type": "code",
   "execution_count": null,
   "metadata": {},
   "outputs": [],
   "source": []
  },
  {
   "cell_type": "code",
   "execution_count": null,
   "metadata": {},
   "outputs": [],
   "source": []
  },
  {
   "cell_type": "code",
   "execution_count": null,
   "metadata": {},
   "outputs": [],
   "source": []
  }
 ],
 "metadata": {
  "kernelspec": {
   "display_name": "Python 3",
   "language": "python",
   "name": "python3"
  },
  "language_info": {
   "codemirror_mode": {
    "name": "ipython",
    "version": 3
   },
   "file_extension": ".py",
   "mimetype": "text/x-python",
   "name": "python",
   "nbconvert_exporter": "python",
   "pygments_lexer": "ipython3",
   "version": "3.7.4"
  }
 },
 "nbformat": 4,
 "nbformat_minor": 2
}
