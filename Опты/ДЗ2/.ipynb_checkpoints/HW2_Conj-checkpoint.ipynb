{
 "cells": [
  {
   "cell_type": "code",
   "execution_count": 69,
   "metadata": {},
   "outputs": [],
   "source": [
    "import liboptpy.base_optimizer as base\n",
    "import numpy as np\n",
    "import random\n",
    "import liboptpy.unconstr_solvers.fo as fo\n",
    "import liboptpy.step_size as ss\n",
    "import matplotlib.pyplot as plt\n",
    "%matplotlib inline"
   ]
  },
  {
   "cell_type": "code",
   "execution_count": 70,
   "metadata": {},
   "outputs": [],
   "source": [
    "from math import log, exp\n",
    "import numpy as np\n",
    "\n",
    "def f(x,A,b):\n",
    "    Ax=A.dot(x)\n",
    "    y = (0.5*x.dot(Ax) + b)\n",
    "    \n",
    "    return y\n",
    "\n",
    "def grad(x,A,b):\n",
    "    y = A.dot(x) + b\n",
    "    return  y\n"
   ]
  },
  {
   "cell_type": "code",
   "execution_count": 71,
   "metadata": {},
   "outputs": [],
   "source": [
    "s = 0.25\n",
    "numiter = 1000\n",
    "#x0 = np.array([1, 1])\n",
    "\n",
    "n=2\n",
    "x0=np.array([0 for i in range(n)])\n",
    "x1=np.array([1 for i in range(n)])"
   ]
  },
  {
   "cell_type": "code",
   "execution_count": 72,
   "metadata": {},
   "outputs": [],
   "source": [
    "def MatGen(kappa,n):\n",
    "    Amas=np.random.uniform(1, kappa, size=(n, n))\n",
    "    Amas=np.diag(np.diag(Amas))\n",
    "    #по-колхозному \n",
    "    Amas[0,0]=1\n",
    "    Amas[n-1,n-1]=kappa\n",
    "    A=Amas\n",
    "    \n",
    "    return A"
   ]
  },
  {
   "cell_type": "code",
   "execution_count": 73,
   "metadata": {},
   "outputs": [],
   "source": [
    "def bGen(n):\n",
    "    b = np.random.randint(-10,10, size=n)\n",
    "    return b\n",
    "    "
   ]
  },
  {
   "cell_type": "code",
   "execution_count": 74,
   "metadata": {},
   "outputs": [],
   "source": [
    "varkap=([1,100,10000])\n",
    "varn=([2,10,1000])"
   ]
  },
  {
   "cell_type": "code",
   "execution_count": 75,
   "metadata": {},
   "outputs": [],
   "source": [
    "import liboptpy.base_optimizer as base\n",
    "import scipy.optimize as scopt\n",
    "import liboptpy.restarts as restarts\n",
    "import numpy as np\n",
    "import liboptpy.unconstr_solvers.fo as fo\n",
    "import liboptpy.step_size as ss\n",
    "import matplotlib.pyplot as plt\n",
    "%matplotlib inline\n",
    "from numpy import linalg as LA\n",
    "import math\n",
    "\n",
    "\n"
   ]
  },
  {
   "cell_type": "code",
   "execution_count": 17,
   "metadata": {},
   "outputs": [],
   "source": [
    "def ConjMeth(x0,A,b,epsilon): \n",
    "    h0=grad(x0,A,b)\n",
    "    xk=x0\n",
    "    hk=h0\n",
    "    alphak=0\n",
    "    gradfx0=grad(x0,A,b)\n",
    "    k=0\n",
    "    #for k in range(100):\n",
    "    while((LA.norm(grad(xk,A,b)))/(LA.norm(grad(x0,A,b)))>= math.sqrt(epsilon)):\n",
    "        \n",
    "        alphak=-(grad(xk,A,b).dot(hk))/(hk.dot(A.dot(hk)))\n",
    "        xk1=xk+alphak*hk\n",
    "        betak=(grad(xk1,A,b).dot(A.dot(hk)))/(hk.dot(A.dot(hk)))\n",
    "        hk1=grad(xk1,A,b)-betak*hk\n",
    "        xk=xk1\n",
    "        hk=hk1\n",
    "        k+=1\n",
    "    return k\n",
    "        \n",
    "        \n",
    "    "
   ]
  },
  {
   "cell_type": "code",
   "execution_count": null,
   "metadata": {
    "scrolled": false
   },
   "outputs": [],
   "source": []
  },
  {
   "cell_type": "markdown",
   "metadata": {},
   "source": [
    "## Вот тут можно поиграться с методом сопр град\n"
   ]
  },
  {
   "cell_type": "markdown",
   "metadata": {},
   "source": [
    "сделать нормальную таблицу или графики уже не успеваю, но мы пробегаем три значения каппы и три значения размерности. руками меняем эпсилон. в первом случае x0=нулевой"
   ]
  },
  {
   "cell_type": "markdown",
   "metadata": {},
   "source": [
    "### в res записываем число номер шага k"
   ]
  },
  {
   "cell_type": "code",
   "execution_count": 19,
   "metadata": {},
   "outputs": [
    {
     "name": "stdout",
     "output_type": "stream",
     "text": [
      "1 2\n",
      "1 10\n",
      "1 1000\n",
      "100 2\n",
      "100 10\n",
      "100 1000\n",
      "10000 2\n",
      "10000 10\n",
      "10000 1000\n"
     ]
    }
   ],
   "source": [
    "res=[]\n",
    "for i in varkap:\n",
    "    for j in varn:\n",
    "        x0=np.array([0 for i in range(j)])\n",
    "        x1=np.array([1 for i in range(j)])\n",
    "        print(i,j)\n",
    "        res.append(((ConjMeth(x0,MatGen(i,j),bGen(j),0.00001))))\n",
    "        "
   ]
  },
  {
   "cell_type": "code",
   "execution_count": null,
   "metadata": {},
   "outputs": [],
   "source": []
  },
  {
   "cell_type": "code",
   "execution_count": 20,
   "metadata": {},
   "outputs": [
    {
     "data": {
      "text/plain": [
       "[1, 1, 1, 2, 9, 28, 2, 8, 110]"
      ]
     },
     "execution_count": 20,
     "metadata": {},
     "output_type": "execute_result"
    }
   ],
   "source": [
    "res"
   ]
  },
  {
   "cell_type": "code",
   "execution_count": 21,
   "metadata": {
    "scrolled": true
   },
   "outputs": [
    {
     "name": "stdout",
     "output_type": "stream",
     "text": [
      "1 2\n",
      "1 10\n",
      "1 1000\n",
      "100 2\n",
      "100 10\n",
      "100 1000\n",
      "10000 2\n",
      "10000 10\n",
      "10000 1000\n"
     ]
    }
   ],
   "source": [
    "res=[]\n",
    "for i in varkap:\n",
    "    for j in varn:\n",
    "        x0=np.array([0 for i in range(j)])\n",
    "        x1=np.array([1 for i in range(j)])\n",
    "        print(i,j)\n",
    "        res.append(((ConjMeth(x0,MatGen(i,j),bGen(j),0.001))))"
   ]
  },
  {
   "cell_type": "code",
   "execution_count": 22,
   "metadata": {},
   "outputs": [
    {
     "data": {
      "text/plain": [
       "[1, 1, 1, 2, 9, 17, 2, 10, 70]"
      ]
     },
     "execution_count": 22,
     "metadata": {},
     "output_type": "execute_result"
    }
   ],
   "source": [
    "res"
   ]
  },
  {
   "cell_type": "code",
   "execution_count": 29,
   "metadata": {},
   "outputs": [],
   "source": [
    "res=[]\n",
    "for i in varkap:\n",
    "    for j in varn:\n",
    "        x0=np.array([0 for i in range(j)])\n",
    "        x1=np.array([1 for i in range(j)])\n",
    "        #print(i,j)\n",
    "        res.append(((ConjMeth(x0,MatGen(i,j),bGen(j),0.1))))"
   ]
  },
  {
   "cell_type": "raw",
   "metadata": {},
   "source": [
    "print(res)"
   ]
  },
  {
   "cell_type": "code",
   "execution_count": null,
   "metadata": {},
   "outputs": [],
   "source": [
    "\n",
    "        "
   ]
  },
  {
   "cell_type": "code",
   "execution_count": 32,
   "metadata": {},
   "outputs": [],
   "source": [
    "res=[]\n",
    "for i in varkap:\n",
    "    for j in varn:\n",
    "        x0=np.array([0 for i in range(j)])\n",
    "        x1=np.array([1 for i in range(j)])\n",
    "        #print(i,j)\n",
    "        res.append(((ConjMeth(x1,MatGen(i,j),bGen(j),0.0001))))"
   ]
  },
  {
   "cell_type": "code",
   "execution_count": 33,
   "metadata": {},
   "outputs": [
    {
     "data": {
      "text/plain": [
       "[1, 1, 1, 2, 9, 11, 1, 7, 8]"
      ]
     },
     "execution_count": 33,
     "metadata": {},
     "output_type": "execute_result"
    }
   ],
   "source": [
    "res"
   ]
  },
  {
   "cell_type": "markdown",
   "metadata": {},
   "source": [
    "Вывод: чем больше число обусловленности, тем больше шагов нужно (хуже сходится). "
   ]
  },
  {
   "cell_type": "markdown",
   "metadata": {},
   "source": []
  },
  {
   "cell_type": "markdown",
   "metadata": {},
   "source": [
    "### Нестеров оптимальный\n"
   ]
  },
  {
   "cell_type": "code",
   "execution_count": 50,
   "metadata": {},
   "outputs": [],
   "source": [
    "def Nest(x0,y0,kappa,A,b,epsilon):\n",
    "    yk=y0\n",
    "    xk=x0\n",
    "    kN=0\n",
    "    while((LA.norm(grad(xk,A,b)))/(LA.norm(grad(x0,A,b)))>= math.sqrt(epsilon)):\n",
    "        xk1=yk-1/kappa*grad(xk,A,b)\n",
    "        yk1=xk1+(math.sqrt(kappa)-1)/(math.sqrt(kappa)+1)*(xk1-xk)\n",
    "        xk=xk1\n",
    "        yk=yk1\n",
    "        kN=kN+1\n",
    "    return kN"
   ]
  },
  {
   "cell_type": "code",
   "execution_count": null,
   "metadata": {},
   "outputs": [],
   "source": []
  },
  {
   "cell_type": "code",
   "execution_count": 56,
   "metadata": {},
   "outputs": [
    {
     "name": "stdout",
     "output_type": "stream",
     "text": [
      "1\n",
      "1\n",
      "1\n",
      "15\n",
      "13\n",
      "10\n",
      "141\n",
      "106\n",
      "88\n"
     ]
    }
   ],
   "source": [
    "NesRes=[]\n",
    "for i in varkap:\n",
    "    for j in varn:\n",
    "        x0=np.array([0 for i in range(j)])\n",
    "        y0=np.array([0 for i in range(j)])\n",
    "        #print(i,j)\n",
    "        print(Nest(x0,y0,i,MatGen(i,j),bGen(j),0.1))"
   ]
  },
  {
   "cell_type": "raw",
   "metadata": {},
   "source": []
  },
  {
   "cell_type": "code",
   "execution_count": 57,
   "metadata": {},
   "outputs": [
    {
     "name": "stdout",
     "output_type": "stream",
     "text": [
      "1\n",
      "1\n",
      "1\n",
      "34\n",
      "21\n",
      "21\n",
      "341\n",
      "186\n",
      "202\n"
     ]
    }
   ],
   "source": [
    "NesRes=[]\n",
    "for i in varkap:\n",
    "    for j in varn:\n",
    "        x0=np.array([0 for i in range(j)])\n",
    "        y0=np.array([0 for i in range(j)])\n",
    "        #print(i,j)\n",
    "        print(Nest(x0,y0,i,MatGen(i,j),bGen(j),0.01))"
   ]
  },
  {
   "cell_type": "code",
   "execution_count": 59,
   "metadata": {},
   "outputs": [
    {
     "name": "stdout",
     "output_type": "stream",
     "text": [
      "1\n",
      "1\n",
      "1\n",
      "41\n",
      "33\n",
      "32\n",
      "428\n",
      "395\n",
      "320\n"
     ]
    }
   ],
   "source": [
    "NesRes=[]\n",
    "for i in varkap:\n",
    "    for j in varn:\n",
    "        x0=np.array([0 for i in range(j)])\n",
    "        y0=np.array([0 for i in range(j)])\n",
    "        #print(i,j)\n",
    "        print(Nest(x0,y0,i,MatGen(i,j),bGen(j),0.001))"
   ]
  },
  {
   "cell_type": "code",
   "execution_count": 60,
   "metadata": {},
   "outputs": [
    {
     "name": "stdout",
     "output_type": "stream",
     "text": [
      "1\n",
      "1\n",
      "1\n",
      "20\n",
      "35\n",
      "35\n",
      "701\n",
      "810\n",
      "799\n"
     ]
    }
   ],
   "source": [
    "NesRes=[]\n",
    "for i in varkap:\n",
    "    for j in varn:\n",
    "        x0=np.array([0 for i in range(j)])\n",
    "        y0=np.array([1 for i in range(j)])\n",
    "        #print(i,j)\n",
    "        print(Nest(x0,y0,i,MatGen(i,j),bGen(j),0.1))"
   ]
  },
  {
   "cell_type": "code",
   "execution_count": 61,
   "metadata": {},
   "outputs": [
    {
     "name": "stdout",
     "output_type": "stream",
     "text": [
      "2\n",
      "2\n",
      "2\n",
      "40\n",
      "49\n",
      "46\n",
      "880\n",
      "880\n",
      "916\n"
     ]
    }
   ],
   "source": [
    "NesRes=[]\n",
    "for i in varkap:\n",
    "    for j in varn:\n",
    "        x0=np.array([0 for i in range(j)])\n",
    "        y0=np.array([1 for i in range(j)])\n",
    "        #print(i,j)\n",
    "        print(Nest(x0,y0,i,MatGen(i,j),bGen(j),0.01))"
   ]
  },
  {
   "cell_type": "code",
   "execution_count": 62,
   "metadata": {},
   "outputs": [
    {
     "name": "stdout",
     "output_type": "stream",
     "text": [
      "2\n",
      "2\n",
      "2\n",
      "40\n",
      "57\n",
      "58\n",
      "886\n",
      "952\n",
      "1030\n"
     ]
    }
   ],
   "source": [
    "NesRes=[]\n",
    "for i in varkap:\n",
    "    for j in varn:\n",
    "        x0=np.array([0 for i in range(j)])\n",
    "        y0=np.array([1 for i in range(j)])\n",
    "        #print(i,j)\n",
    "        print(Nest(x0,y0,i,MatGen(i,j),bGen(j),0.001))"
   ]
  },
  {
   "cell_type": "markdown",
   "metadata": {},
   "source": [
    "Вывод: чем больше каппа, тем больше шагов. из 0 0 сходится лучше"
   ]
  },
  {
   "cell_type": "markdown",
   "metadata": {},
   "source": [
    "### Градиентный с Армихо //если успею "
   ]
  },
  {
   "cell_type": "code",
   "execution_count": 85,
   "metadata": {},
   "outputs": [],
   "source": [
    "def get_a(d,x,A,b):\n",
    "    a = 0.9\n",
    "    t = 0.9\n",
    "    eps = 0.5\n",
    "    while True:\n",
    "        f1 = f(x - a*d,A,b)\n",
    "        f2 = f(x,A,b) - eps*a*np.dot(d, d)\n",
    "        if f1 < f2:\n",
    "            return a\n",
    "        else:\n",
    "            a *= t"
   ]
  },
  {
   "cell_type": "code",
   "execution_count": 86,
   "metadata": {},
   "outputs": [],
   "source": [
    "def GradDesc(x0, A,b,epsilon):\n",
    "    xk=x0\n",
    "    alphak=0\n",
    "    kG=0\n",
    "    while((LA.norm(grad(xk,A,b)))/(LA.norm(grad(x0,A,b)))>= math.sqrt(epsilon)):\n",
    "        hk=-grad(xk,A,b)\n",
    "        alphak=get_a(hk,xk,A,b)\n",
    "        xk1=xk+alphak*hk\n",
    "        kG=kG+1\n",
    "    return kG"
   ]
  },
  {
   "cell_type": "code",
   "execution_count": 87,
   "metadata": {},
   "outputs": [
    {
     "ename": "ValueError",
     "evalue": "The truth value of an array with more than one element is ambiguous. Use a.any() or a.all()",
     "output_type": "error",
     "traceback": [
      "\u001b[0;31m---------------------------------------------------------------------------\u001b[0m",
      "\u001b[0;31mValueError\u001b[0m                                Traceback (most recent call last)",
      "\u001b[0;32m<ipython-input-87-dad3fce9f9de>\u001b[0m in \u001b[0;36m<module>\u001b[0;34m\u001b[0m\n\u001b[1;32m      4\u001b[0m         \u001b[0my0\u001b[0m\u001b[0;34m=\u001b[0m\u001b[0mnp\u001b[0m\u001b[0;34m.\u001b[0m\u001b[0marray\u001b[0m\u001b[0;34m(\u001b[0m\u001b[0;34m[\u001b[0m\u001b[0;36m1\u001b[0m \u001b[0;32mfor\u001b[0m \u001b[0mi\u001b[0m \u001b[0;32min\u001b[0m \u001b[0mrange\u001b[0m\u001b[0;34m(\u001b[0m\u001b[0mj\u001b[0m\u001b[0;34m)\u001b[0m\u001b[0;34m]\u001b[0m\u001b[0;34m)\u001b[0m\u001b[0;34m\u001b[0m\u001b[0;34m\u001b[0m\u001b[0m\n\u001b[1;32m      5\u001b[0m         \u001b[0;31m#print(i,j)\u001b[0m\u001b[0;34m\u001b[0m\u001b[0;34m\u001b[0m\u001b[0;34m\u001b[0m\u001b[0m\n\u001b[0;32m----> 6\u001b[0;31m         \u001b[0mprint\u001b[0m\u001b[0;34m(\u001b[0m\u001b[0mGradDesc\u001b[0m\u001b[0;34m(\u001b[0m\u001b[0mx0\u001b[0m\u001b[0;34m,\u001b[0m\u001b[0mMatGen\u001b[0m\u001b[0;34m(\u001b[0m\u001b[0mi\u001b[0m\u001b[0;34m,\u001b[0m\u001b[0mj\u001b[0m\u001b[0;34m)\u001b[0m\u001b[0;34m,\u001b[0m\u001b[0mbGen\u001b[0m\u001b[0;34m(\u001b[0m\u001b[0mj\u001b[0m\u001b[0;34m)\u001b[0m\u001b[0;34m,\u001b[0m\u001b[0;36m0.1\u001b[0m\u001b[0;34m)\u001b[0m\u001b[0;34m)\u001b[0m\u001b[0;34m\u001b[0m\u001b[0;34m\u001b[0m\u001b[0m\n\u001b[0m",
      "\u001b[0;32m<ipython-input-86-66974790e55e>\u001b[0m in \u001b[0;36mGradDesc\u001b[0;34m(x0, A, b, epsilon)\u001b[0m\n\u001b[1;32m      5\u001b[0m     \u001b[0;32mwhile\u001b[0m\u001b[0;34m(\u001b[0m\u001b[0;34m(\u001b[0m\u001b[0mLA\u001b[0m\u001b[0;34m.\u001b[0m\u001b[0mnorm\u001b[0m\u001b[0;34m(\u001b[0m\u001b[0mgrad\u001b[0m\u001b[0;34m(\u001b[0m\u001b[0mxk\u001b[0m\u001b[0;34m,\u001b[0m\u001b[0mA\u001b[0m\u001b[0;34m,\u001b[0m\u001b[0mb\u001b[0m\u001b[0;34m)\u001b[0m\u001b[0;34m)\u001b[0m\u001b[0;34m)\u001b[0m\u001b[0;34m/\u001b[0m\u001b[0;34m(\u001b[0m\u001b[0mLA\u001b[0m\u001b[0;34m.\u001b[0m\u001b[0mnorm\u001b[0m\u001b[0;34m(\u001b[0m\u001b[0mgrad\u001b[0m\u001b[0;34m(\u001b[0m\u001b[0mx0\u001b[0m\u001b[0;34m,\u001b[0m\u001b[0mA\u001b[0m\u001b[0;34m,\u001b[0m\u001b[0mb\u001b[0m\u001b[0;34m)\u001b[0m\u001b[0;34m)\u001b[0m\u001b[0;34m)\u001b[0m\u001b[0;34m>=\u001b[0m \u001b[0mmath\u001b[0m\u001b[0;34m.\u001b[0m\u001b[0msqrt\u001b[0m\u001b[0;34m(\u001b[0m\u001b[0mepsilon\u001b[0m\u001b[0;34m)\u001b[0m\u001b[0;34m)\u001b[0m\u001b[0;34m:\u001b[0m\u001b[0;34m\u001b[0m\u001b[0;34m\u001b[0m\u001b[0m\n\u001b[1;32m      6\u001b[0m         \u001b[0mhk\u001b[0m\u001b[0;34m=\u001b[0m\u001b[0;34m-\u001b[0m\u001b[0mgrad\u001b[0m\u001b[0;34m(\u001b[0m\u001b[0mxk\u001b[0m\u001b[0;34m,\u001b[0m\u001b[0mA\u001b[0m\u001b[0;34m,\u001b[0m\u001b[0mb\u001b[0m\u001b[0;34m)\u001b[0m\u001b[0;34m\u001b[0m\u001b[0;34m\u001b[0m\u001b[0m\n\u001b[0;32m----> 7\u001b[0;31m         \u001b[0malphak\u001b[0m\u001b[0;34m=\u001b[0m\u001b[0mget_a\u001b[0m\u001b[0;34m(\u001b[0m\u001b[0mhk\u001b[0m\u001b[0;34m,\u001b[0m\u001b[0mxk\u001b[0m\u001b[0;34m,\u001b[0m\u001b[0mA\u001b[0m\u001b[0;34m,\u001b[0m\u001b[0mb\u001b[0m\u001b[0;34m)\u001b[0m\u001b[0;34m\u001b[0m\u001b[0;34m\u001b[0m\u001b[0m\n\u001b[0m\u001b[1;32m      8\u001b[0m         \u001b[0mxk1\u001b[0m\u001b[0;34m=\u001b[0m\u001b[0mxk\u001b[0m\u001b[0;34m+\u001b[0m\u001b[0malphak\u001b[0m\u001b[0;34m*\u001b[0m\u001b[0mhk\u001b[0m\u001b[0;34m\u001b[0m\u001b[0;34m\u001b[0m\u001b[0m\n\u001b[1;32m      9\u001b[0m         \u001b[0mkG\u001b[0m\u001b[0;34m=\u001b[0m\u001b[0mkG\u001b[0m\u001b[0;34m+\u001b[0m\u001b[0;36m1\u001b[0m\u001b[0;34m\u001b[0m\u001b[0;34m\u001b[0m\u001b[0m\n",
      "\u001b[0;32m<ipython-input-85-7b17bae348d6>\u001b[0m in \u001b[0;36mget_a\u001b[0;34m(d, x, A, b)\u001b[0m\n\u001b[1;32m      6\u001b[0m         \u001b[0mf1\u001b[0m \u001b[0;34m=\u001b[0m \u001b[0mf\u001b[0m\u001b[0;34m(\u001b[0m\u001b[0mx\u001b[0m \u001b[0;34m-\u001b[0m \u001b[0ma\u001b[0m\u001b[0;34m*\u001b[0m\u001b[0md\u001b[0m\u001b[0;34m,\u001b[0m\u001b[0mA\u001b[0m\u001b[0;34m,\u001b[0m\u001b[0mb\u001b[0m\u001b[0;34m)\u001b[0m\u001b[0;34m\u001b[0m\u001b[0;34m\u001b[0m\u001b[0m\n\u001b[1;32m      7\u001b[0m         \u001b[0mf2\u001b[0m \u001b[0;34m=\u001b[0m \u001b[0mf\u001b[0m\u001b[0;34m(\u001b[0m\u001b[0mx\u001b[0m\u001b[0;34m,\u001b[0m\u001b[0mA\u001b[0m\u001b[0;34m,\u001b[0m\u001b[0mb\u001b[0m\u001b[0;34m)\u001b[0m \u001b[0;34m-\u001b[0m \u001b[0meps\u001b[0m\u001b[0;34m*\u001b[0m\u001b[0ma\u001b[0m\u001b[0;34m*\u001b[0m\u001b[0mnp\u001b[0m\u001b[0;34m.\u001b[0m\u001b[0mdot\u001b[0m\u001b[0;34m(\u001b[0m\u001b[0md\u001b[0m\u001b[0;34m,\u001b[0m \u001b[0md\u001b[0m\u001b[0;34m)\u001b[0m\u001b[0;34m\u001b[0m\u001b[0;34m\u001b[0m\u001b[0m\n\u001b[0;32m----> 8\u001b[0;31m         \u001b[0;32mif\u001b[0m \u001b[0mf1\u001b[0m \u001b[0;34m<\u001b[0m \u001b[0mf2\u001b[0m\u001b[0;34m:\u001b[0m\u001b[0;34m\u001b[0m\u001b[0;34m\u001b[0m\u001b[0m\n\u001b[0m\u001b[1;32m      9\u001b[0m             \u001b[0;32mreturn\u001b[0m \u001b[0ma\u001b[0m\u001b[0;34m\u001b[0m\u001b[0;34m\u001b[0m\u001b[0m\n\u001b[1;32m     10\u001b[0m         \u001b[0;32melse\u001b[0m\u001b[0;34m:\u001b[0m\u001b[0;34m\u001b[0m\u001b[0;34m\u001b[0m\u001b[0m\n",
      "\u001b[0;31mValueError\u001b[0m: The truth value of an array with more than one element is ambiguous. Use a.any() or a.all()"
     ]
    }
   ],
   "source": [
    "for i in varkap:\n",
    "    for j in varn:\n",
    "        x0=np.array([0 for i in range(j)])\n",
    "        y0=np.array([1 for i in range(j)])\n",
    "        #print(i,j)\n",
    "        print(GradDesc(x0,MatGen(i,j),bGen(j),0.1))"
   ]
  },
  {
   "cell_type": "markdown",
   "metadata": {},
   "source": [
    "почему-то не работает, в чем ошибка - не пойму. что ему не нравится "
   ]
  },
  {
   "cell_type": "markdown",
   "metadata": {},
   "source": [
    "#### без Армихо"
   ]
  },
  {
   "cell_type": "code",
   "execution_count": 93,
   "metadata": {},
   "outputs": [],
   "source": [
    "def GradDesc1(x0, A,b,epsilon):\n",
    "    xk=x0\n",
    "    alphak=0\n",
    "    kG=0\n",
    "    while((LA.norm(grad(xk,A,b)))/(LA.norm(grad(x0,A,b)))>= math.sqrt(epsilon)):\n",
    "        hk=-grad(xk,A,b)\n",
    "        alphak=0.5\n",
    "        xk1=xk+alphak*hk\n",
    "        kG=kG+1\n",
    "    return kG"
   ]
  },
  {
   "cell_type": "code",
   "execution_count": 94,
   "metadata": {},
   "outputs": [
    {
     "ename": "KeyboardInterrupt",
     "evalue": "",
     "output_type": "error",
     "traceback": [
      "\u001b[0;31m---------------------------------------------------------------------------\u001b[0m",
      "\u001b[0;31mKeyboardInterrupt\u001b[0m                         Traceback (most recent call last)",
      "\u001b[0;32m<ipython-input-94-fe0932a2200c>\u001b[0m in \u001b[0;36m<module>\u001b[0;34m\u001b[0m\n\u001b[1;32m      4\u001b[0m         \u001b[0my0\u001b[0m\u001b[0;34m=\u001b[0m\u001b[0mnp\u001b[0m\u001b[0;34m.\u001b[0m\u001b[0marray\u001b[0m\u001b[0;34m(\u001b[0m\u001b[0;34m[\u001b[0m\u001b[0;36m1\u001b[0m \u001b[0;32mfor\u001b[0m \u001b[0mi\u001b[0m \u001b[0;32min\u001b[0m \u001b[0mrange\u001b[0m\u001b[0;34m(\u001b[0m\u001b[0mj\u001b[0m\u001b[0;34m)\u001b[0m\u001b[0;34m]\u001b[0m\u001b[0;34m)\u001b[0m\u001b[0;34m\u001b[0m\u001b[0;34m\u001b[0m\u001b[0m\n\u001b[1;32m      5\u001b[0m         \u001b[0;31m#print(i,j)\u001b[0m\u001b[0;34m\u001b[0m\u001b[0;34m\u001b[0m\u001b[0;34m\u001b[0m\u001b[0m\n\u001b[0;32m----> 6\u001b[0;31m         \u001b[0mprint\u001b[0m\u001b[0;34m(\u001b[0m\u001b[0mGradDesc1\u001b[0m\u001b[0;34m(\u001b[0m\u001b[0mx0\u001b[0m\u001b[0;34m,\u001b[0m\u001b[0mMatGen\u001b[0m\u001b[0;34m(\u001b[0m\u001b[0mi\u001b[0m\u001b[0;34m,\u001b[0m\u001b[0mj\u001b[0m\u001b[0;34m)\u001b[0m\u001b[0;34m,\u001b[0m\u001b[0mbGen\u001b[0m\u001b[0;34m(\u001b[0m\u001b[0mj\u001b[0m\u001b[0;34m)\u001b[0m\u001b[0;34m,\u001b[0m\u001b[0;36m1\u001b[0m\u001b[0;34m)\u001b[0m\u001b[0;34m)\u001b[0m\u001b[0;34m\u001b[0m\u001b[0;34m\u001b[0m\u001b[0m\n\u001b[0m",
      "\u001b[0;32m<ipython-input-93-d26e4c8173e1>\u001b[0m in \u001b[0;36mGradDesc1\u001b[0;34m(x0, A, b, epsilon)\u001b[0m\n\u001b[1;32m      4\u001b[0m     \u001b[0mkG\u001b[0m\u001b[0;34m=\u001b[0m\u001b[0;36m0\u001b[0m\u001b[0;34m\u001b[0m\u001b[0;34m\u001b[0m\u001b[0m\n\u001b[1;32m      5\u001b[0m     \u001b[0;32mwhile\u001b[0m\u001b[0;34m(\u001b[0m\u001b[0;34m(\u001b[0m\u001b[0mLA\u001b[0m\u001b[0;34m.\u001b[0m\u001b[0mnorm\u001b[0m\u001b[0;34m(\u001b[0m\u001b[0mgrad\u001b[0m\u001b[0;34m(\u001b[0m\u001b[0mxk\u001b[0m\u001b[0;34m,\u001b[0m\u001b[0mA\u001b[0m\u001b[0;34m,\u001b[0m\u001b[0mb\u001b[0m\u001b[0;34m)\u001b[0m\u001b[0;34m)\u001b[0m\u001b[0;34m)\u001b[0m\u001b[0;34m/\u001b[0m\u001b[0;34m(\u001b[0m\u001b[0mLA\u001b[0m\u001b[0;34m.\u001b[0m\u001b[0mnorm\u001b[0m\u001b[0;34m(\u001b[0m\u001b[0mgrad\u001b[0m\u001b[0;34m(\u001b[0m\u001b[0mx0\u001b[0m\u001b[0;34m,\u001b[0m\u001b[0mA\u001b[0m\u001b[0;34m,\u001b[0m\u001b[0mb\u001b[0m\u001b[0;34m)\u001b[0m\u001b[0;34m)\u001b[0m\u001b[0;34m)\u001b[0m\u001b[0;34m>=\u001b[0m \u001b[0mmath\u001b[0m\u001b[0;34m.\u001b[0m\u001b[0msqrt\u001b[0m\u001b[0;34m(\u001b[0m\u001b[0mepsilon\u001b[0m\u001b[0;34m)\u001b[0m\u001b[0;34m)\u001b[0m\u001b[0;34m:\u001b[0m\u001b[0;34m\u001b[0m\u001b[0;34m\u001b[0m\u001b[0m\n\u001b[0;32m----> 6\u001b[0;31m         \u001b[0mhk\u001b[0m\u001b[0;34m=\u001b[0m\u001b[0;34m-\u001b[0m\u001b[0mgrad\u001b[0m\u001b[0;34m(\u001b[0m\u001b[0mxk\u001b[0m\u001b[0;34m,\u001b[0m\u001b[0mA\u001b[0m\u001b[0;34m,\u001b[0m\u001b[0mb\u001b[0m\u001b[0;34m)\u001b[0m\u001b[0;34m\u001b[0m\u001b[0;34m\u001b[0m\u001b[0m\n\u001b[0m\u001b[1;32m      7\u001b[0m         \u001b[0malphak\u001b[0m\u001b[0;34m=\u001b[0m\u001b[0;36m0.5\u001b[0m\u001b[0;34m\u001b[0m\u001b[0;34m\u001b[0m\u001b[0m\n\u001b[1;32m      8\u001b[0m         \u001b[0mxk1\u001b[0m\u001b[0;34m=\u001b[0m\u001b[0mxk\u001b[0m\u001b[0;34m+\u001b[0m\u001b[0malphak\u001b[0m\u001b[0;34m*\u001b[0m\u001b[0mhk\u001b[0m\u001b[0;34m\u001b[0m\u001b[0;34m\u001b[0m\u001b[0m\n",
      "\u001b[0;32m<ipython-input-70-86ebbdd88012>\u001b[0m in \u001b[0;36mgrad\u001b[0;34m(x, A, b)\u001b[0m\n\u001b[1;32m      9\u001b[0m \u001b[0;34m\u001b[0m\u001b[0m\n\u001b[1;32m     10\u001b[0m \u001b[0;32mdef\u001b[0m \u001b[0mgrad\u001b[0m\u001b[0;34m(\u001b[0m\u001b[0mx\u001b[0m\u001b[0;34m,\u001b[0m\u001b[0mA\u001b[0m\u001b[0;34m,\u001b[0m\u001b[0mb\u001b[0m\u001b[0;34m)\u001b[0m\u001b[0;34m:\u001b[0m\u001b[0;34m\u001b[0m\u001b[0;34m\u001b[0m\u001b[0m\n\u001b[0;32m---> 11\u001b[0;31m     \u001b[0my\u001b[0m \u001b[0;34m=\u001b[0m \u001b[0mA\u001b[0m\u001b[0;34m.\u001b[0m\u001b[0mdot\u001b[0m\u001b[0;34m(\u001b[0m\u001b[0mx\u001b[0m\u001b[0;34m)\u001b[0m \u001b[0;34m+\u001b[0m \u001b[0mb\u001b[0m\u001b[0;34m\u001b[0m\u001b[0;34m\u001b[0m\u001b[0m\n\u001b[0m\u001b[1;32m     12\u001b[0m     \u001b[0;32mreturn\u001b[0m  \u001b[0my\u001b[0m\u001b[0;34m\u001b[0m\u001b[0;34m\u001b[0m\u001b[0m\n",
      "\u001b[0;31mKeyboardInterrupt\u001b[0m: "
     ]
    }
   ],
   "source": [
    "for i in varkap:\n",
    "    for j in varn:\n",
    "        x0=np.array([0 for i in range(j)])\n",
    "        y0=np.array([1 for i in range(j)])\n",
    "        #print(i,j)\n",
    "        print(GradDesc1(x0,MatGen(i,j),bGen(j),1))"
   ]
  },
  {
   "cell_type": "markdown",
   "metadata": {},
   "source": [
    "зависает"
   ]
  },
  {
   "cell_type": "code",
   "execution_count": null,
   "metadata": {},
   "outputs": [],
   "source": []
  }
 ],
 "metadata": {
  "kernelspec": {
   "display_name": "Python 3",
   "language": "python",
   "name": "python3"
  },
  "language_info": {
   "codemirror_mode": {
    "name": "ipython",
    "version": 3
   },
   "file_extension": ".py",
   "mimetype": "text/x-python",
   "name": "python",
   "nbconvert_exporter": "python",
   "pygments_lexer": "ipython3",
   "version": "3.7.4"
  }
 },
 "nbformat": 4,
 "nbformat_minor": 2
}
