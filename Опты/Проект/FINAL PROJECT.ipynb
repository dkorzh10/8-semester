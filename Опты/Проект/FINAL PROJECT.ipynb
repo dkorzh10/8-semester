{
 "cells": [
  {
   "cell_type": "code",
   "execution_count": 1,
   "metadata": {},
   "outputs": [],
   "source": [
    "from sklearn.datasets import load_svmlight_file\n",
    "import numpy as np\n",
    "from scipy.sparse import csr_matrix\n",
    "import random\n",
    "from numpy import linalg as LA\n",
    "import matplotlib.pyplot as plt"
   ]
  },
  {
   "cell_type": "code",
   "execution_count": 2,
   "metadata": {},
   "outputs": [],
   "source": [
    "A, y = load_svmlight_file(\"mushrooms.txt\")"
   ]
  },
  {
   "cell_type": "code",
   "execution_count": null,
   "metadata": {},
   "outputs": [],
   "source": []
  },
  {
   "cell_type": "code",
   "execution_count": 3,
   "metadata": {},
   "outputs": [
    {
     "data": {
      "text/plain": [
       "(8124,)"
      ]
     },
     "execution_count": 3,
     "metadata": {},
     "output_type": "execute_result"
    }
   ],
   "source": [
    "y.shape"
   ]
  },
  {
   "cell_type": "code",
   "execution_count": 4,
   "metadata": {},
   "outputs": [],
   "source": [
    "n=100"
   ]
  },
  {
   "cell_type": "code",
   "execution_count": 5,
   "metadata": {},
   "outputs": [],
   "source": [
    "for i in range(len(y)):\n",
    "    if y[i]==1.0:\n",
    "        y[i]=-1.0\n",
    "    else:\n",
    "        y[i]=1.0"
   ]
  },
  {
   "cell_type": "code",
   "execution_count": 6,
   "metadata": {},
   "outputs": [
    {
     "data": {
      "text/plain": [
       "array([-1.,  1.,  1., ...,  1., -1.,  1.])"
      ]
     },
     "execution_count": 6,
     "metadata": {},
     "output_type": "execute_result"
    }
   ],
   "source": [
    "y"
   ]
  },
  {
   "cell_type": "code",
   "execution_count": 7,
   "metadata": {},
   "outputs": [],
   "source": [
    "Amax=csr_matrix.max(A, axis=0)"
   ]
  },
  {
   "cell_type": "code",
   "execution_count": 8,
   "metadata": {
    "scrolled": true
   },
   "outputs": [
    {
     "data": {
      "text/plain": [
       "<1x112 sparse matrix of type '<class 'numpy.float64'>'\n",
       "\twith 112 stored elements in COOrdinate format>"
      ]
     },
     "execution_count": 8,
     "metadata": {},
     "output_type": "execute_result"
    }
   ],
   "source": [
    "Amax"
   ]
  },
  {
   "cell_type": "code",
   "execution_count": 9,
   "metadata": {},
   "outputs": [],
   "source": [
    "d=112"
   ]
  },
  {
   "cell_type": "code",
   "execution_count": 10,
   "metadata": {},
   "outputs": [
    {
     "name": "stdout",
     "output_type": "stream",
     "text": [
      "0.0\n",
      "0.0\n",
      "0.0\n",
      "0.0\n",
      "0.0\n",
      "1.0\n",
      "0.0\n",
      "1.0\n",
      "0.0\n",
      "0.0\n",
      "0.0\n",
      "0.0\n",
      "0.0\n",
      "0.0\n",
      "1.0\n",
      "0.0\n",
      "0.0\n",
      "0.0\n",
      "0.0\n",
      "0.0\n",
      "1.0\n",
      "0.0\n",
      "0.0\n",
      "0.0\n",
      "0.0\n",
      "0.0\n",
      "0.0\n",
      "0.0\n",
      "1.0\n",
      "0.0\n",
      "0.0\n",
      "0.0\n",
      "1.0\n",
      "1.0\n",
      "0.0\n",
      "0.0\n",
      "1.0\n",
      "0.0\n",
      "0.0\n",
      "0.0\n",
      "0.0\n",
      "1.0\n",
      "0.0\n",
      "0.0\n",
      "0.0\n",
      "0.0\n",
      "0.0\n",
      "0.0\n",
      "0.0\n",
      "1.0\n",
      "0.0\n",
      "0.0\n",
      "1.0\n",
      "0.0\n",
      "0.0\n",
      "0.0\n",
      "1.0\n",
      "0.0\n",
      "0.0\n",
      "0.0\n",
      "0.0\n",
      "0.0\n",
      "0.0\n",
      "0.0\n",
      "0.0\n",
      "0.0\n",
      "1.0\n",
      "0.0\n",
      "0.0\n",
      "0.0\n",
      "0.0\n",
      "0.0\n",
      "0.0\n",
      "0.0\n",
      "0.0\n",
      "1.0\n",
      "0.0\n",
      "1.0\n",
      "0.0\n",
      "0.0\n",
      "1.0\n",
      "0.0\n",
      "0.0\n",
      "1.0\n",
      "0.0\n",
      "1.0\n",
      "0.0\n",
      "0.0\n",
      "0.0\n",
      "0.0\n",
      "0.0\n",
      "0.0\n",
      "1.0\n",
      "0.0\n",
      "0.0\n",
      "0.0\n",
      "0.0\n",
      "0.0\n",
      "0.0\n",
      "0.0\n",
      "0.0\n",
      "0.0\n",
      "1.0\n",
      "0.0\n",
      "0.0\n",
      "0.0\n",
      "0.0\n",
      "0.0\n",
      "0.0\n",
      "0.0\n",
      "1.0\n",
      "0.0\n"
     ]
    }
   ],
   "source": [
    "for i in range(112):\n",
    "    print(A[0,i])"
   ]
  },
  {
   "cell_type": "code",
   "execution_count": null,
   "metadata": {},
   "outputs": [],
   "source": []
  },
  {
   "cell_type": "code",
   "execution_count": null,
   "metadata": {},
   "outputs": [],
   "source": []
  },
  {
   "cell_type": "code",
   "execution_count": 11,
   "metadata": {},
   "outputs": [],
   "source": [
    "AA=csr_matrix.todense(A)"
   ]
  },
  {
   "cell_type": "code",
   "execution_count": 12,
   "metadata": {
    "scrolled": true
   },
   "outputs": [
    {
     "data": {
      "text/plain": [
       "matrix([[0., 0., 0., ..., 0., 1., 0.],\n",
       "        [0., 0., 0., ..., 0., 0., 0.],\n",
       "        [0., 1., 0., ..., 0., 0., 0.],\n",
       "        ...,\n",
       "        [0., 0., 1., ..., 0., 0., 0.],\n",
       "        [0., 0., 0., ..., 0., 0., 0.],\n",
       "        [0., 0., 0., ..., 0., 0., 0.]])"
      ]
     },
     "execution_count": 12,
     "metadata": {},
     "output_type": "execute_result"
    }
   ],
   "source": [
    "AA"
   ]
  },
  {
   "cell_type": "code",
   "execution_count": 13,
   "metadata": {},
   "outputs": [
    {
     "data": {
      "text/plain": [
       "(8124, 112)"
      ]
     },
     "execution_count": 13,
     "metadata": {},
     "output_type": "execute_result"
    }
   ],
   "source": [
    "AA.shape"
   ]
  },
  {
   "cell_type": "code",
   "execution_count": 14,
   "metadata": {},
   "outputs": [
    {
     "data": {
      "text/plain": [
       "<1x112 sparse matrix of type '<class 'numpy.float64'>'\n",
       "\twith 21 stored elements in Compressed Sparse Row format>"
      ]
     },
     "execution_count": 14,
     "metadata": {},
     "output_type": "execute_result"
    }
   ],
   "source": [
    "A[0]"
   ]
  },
  {
   "cell_type": "code",
   "execution_count": 15,
   "metadata": {},
   "outputs": [],
   "source": [
    "xcheck=np.array([random.random() for i in range(d)])*0+1"
   ]
  },
  {
   "cell_type": "code",
   "execution_count": 16,
   "metadata": {},
   "outputs": [],
   "source": [
    "row_sums=csr_matrix.dot(A,xcheck)"
   ]
  },
  {
   "cell_type": "code",
   "execution_count": 17,
   "metadata": {},
   "outputs": [
    {
     "data": {
      "text/plain": [
       "21.0"
      ]
     },
     "execution_count": 17,
     "metadata": {},
     "output_type": "execute_result"
    }
   ],
   "source": [
    "row_sums.max()"
   ]
  },
  {
   "cell_type": "code",
   "execution_count": null,
   "metadata": {},
   "outputs": [],
   "source": []
  },
  {
   "cell_type": "code",
   "execution_count": 18,
   "metadata": {},
   "outputs": [],
   "source": [
    "q=np.array([random.random() for i in range(d)])"
   ]
  },
  {
   "cell_type": "code",
   "execution_count": null,
   "metadata": {},
   "outputs": [],
   "source": []
  },
  {
   "cell_type": "code",
   "execution_count": 19,
   "metadata": {},
   "outputs": [
    {
     "data": {
      "text/plain": [
       "matrix([[11.8565082 , 10.4691904 , 10.53417398, ..., 12.02584082,\n",
       "         11.02326415, 12.83625042]])"
      ]
     },
     "execution_count": 19,
     "metadata": {},
     "output_type": "execute_result"
    }
   ],
   "source": [
    "AA.dot(q)"
   ]
  },
  {
   "cell_type": "code",
   "execution_count": 20,
   "metadata": {},
   "outputs": [
    {
     "data": {
      "text/plain": [
       "array([11.8565082 , 10.4691904 , 10.53417398, ..., 12.02584082,\n",
       "       11.02326415, 12.83625042])"
      ]
     },
     "execution_count": 20,
     "metadata": {},
     "output_type": "execute_result"
    }
   ],
   "source": [
    "csr_matrix.dot(A,q)"
   ]
  },
  {
   "cell_type": "code",
   "execution_count": null,
   "metadata": {},
   "outputs": [],
   "source": []
  },
  {
   "cell_type": "code",
   "execution_count": null,
   "metadata": {},
   "outputs": [],
   "source": []
  },
  {
   "cell_type": "markdown",
   "metadata": {},
   "source": [
    "Похоже, научился переможножать эту CSR матрицу "
   ]
  },
  {
   "cell_type": "code",
   "execution_count": 21,
   "metadata": {},
   "outputs": [
    {
     "data": {
      "text/plain": [
       "-1.0"
      ]
     },
     "execution_count": 21,
     "metadata": {},
     "output_type": "execute_result"
    }
   ],
   "source": [
    "y[0]"
   ]
  },
  {
   "cell_type": "code",
   "execution_count": 22,
   "metadata": {},
   "outputs": [
    {
     "data": {
      "text/plain": [
       "matrix([[0., 0., 0., 0., 0., 1., 0., 1., 0., 0., 0., 0., 0., 0., 0., 0.,\n",
       "         0., 0., 0., 1., 1., 0., 1., 0., 0., 0., 0., 0., 0., 0., 0., 0.,\n",
       "         1., 1., 0., 1., 0., 0., 0., 0., 0., 1., 0., 0., 0., 0., 0., 0.,\n",
       "         0., 1., 0., 0., 1., 0., 0., 0., 1., 0., 0., 0., 0., 0., 0., 0.,\n",
       "         0., 0., 1., 0., 0., 0., 0., 0., 0., 0., 0., 1., 0., 1., 0., 0.,\n",
       "         1., 0., 0., 1., 0., 1., 0., 0., 0., 0., 0., 0., 0., 0., 1., 0.,\n",
       "         0., 0., 0., 0., 0., 1., 0., 0., 0., 0., 1., 0., 0., 0., 0., 0.]])"
      ]
     },
     "execution_count": 22,
     "metadata": {},
     "output_type": "execute_result"
    }
   ],
   "source": [
    "AA[1,]"
   ]
  },
  {
   "cell_type": "code",
   "execution_count": 23,
   "metadata": {},
   "outputs": [
    {
     "data": {
      "text/plain": [
       "(1, 112)"
      ]
     },
     "execution_count": 23,
     "metadata": {},
     "output_type": "execute_result"
    }
   ],
   "source": [
    "AA[1].shape"
   ]
  },
  {
   "cell_type": "markdown",
   "metadata": {},
   "source": [
    "## Реализация методов"
   ]
  },
  {
   "cell_type": "code",
   "execution_count": 24,
   "metadata": {},
   "outputs": [],
   "source": [
    "L=[21.0*10/4/9, 21.0*100/4/99, 21.0*1000/4/999,21.0*10000/4/9999,]\n"
   ]
  },
  {
   "cell_type": "code",
   "execution_count": 25,
   "metadata": {},
   "outputs": [
    {
     "data": {
      "text/plain": [
       "5.833333333333333"
      ]
     },
     "execution_count": 25,
     "metadata": {},
     "output_type": "execute_result"
    }
   ],
   "source": [
    "L[0]"
   ]
  },
  {
   "cell_type": "code",
   "execution_count": 26,
   "metadata": {},
   "outputs": [],
   "source": [
    "MU=[L[0]/10,L[1]/100, L[2]/1000, L[3]/10000]"
   ]
  },
  {
   "cell_type": "code",
   "execution_count": 27,
   "metadata": {},
   "outputs": [
    {
     "data": {
      "text/plain": [
       "0.000525052505250525"
      ]
     },
     "execution_count": 27,
     "metadata": {},
     "output_type": "execute_result"
    }
   ],
   "source": [
    "MU[3]"
   ]
  },
  {
   "cell_type": "code",
   "execution_count": 28,
   "metadata": {},
   "outputs": [],
   "source": [
    "epsilon=0.01"
   ]
  },
  {
   "cell_type": "code",
   "execution_count": 29,
   "metadata": {},
   "outputs": [],
   "source": [
    "from math import exp,log,sqrt"
   ]
  },
  {
   "cell_type": "code",
   "execution_count": 30,
   "metadata": {},
   "outputs": [],
   "source": [
    "def funf(x,mu1):\n",
    "    sumf=0\n",
    "    Ax=csr_matrix.dot(A,x)\n",
    "    for i in range(n):\n",
    "#        npa=csr_matrix.toarray(csr_matrix.getrow(A,i))\n",
    "#        zq=np.array([])\n",
    "#        zq=npa[0,]\n",
    "        f_i=(log(1+np.exp(-y[i]*Ax[i],dtype=np.float128))+mu1/2.0*LA.norm(x)**2)\n",
    "        sumf=sumf+f_i\n",
    "    return(sumf*1.0/n)\n",
    "    "
   ]
  },
  {
   "cell_type": "code",
   "execution_count": 31,
   "metadata": {},
   "outputs": [],
   "source": [
    "def grad(x, mu1):\n",
    "    sumg=0\n",
    "\n",
    "    Ax=csr_matrix.dot(A,x)\n",
    "    for i in range(n):\n",
    "        npa=csr_matrix.toarray(csr_matrix.getrow(A,i))\n",
    "        zq=np.array([])\n",
    "        zq=npa[0,]\n",
    "        grad_i=(-1*y[i]*zq*np.exp(-y[i]*Ax[i], dtype=np.float128))/(1+np.exp(-y[i]*Ax[i], dtype=np.float128))+mu1*x\n",
    "        sumg=sumg+grad_i\n",
    "        \n",
    "    return(sumg/n)\n",
    "        \n",
    "\n",
    "    \n",
    "    "
   ]
  },
  {
   "cell_type": "code",
   "execution_count": null,
   "metadata": {},
   "outputs": [],
   "source": []
  },
  {
   "cell_type": "code",
   "execution_count": 32,
   "metadata": {},
   "outputs": [],
   "source": [
    "def get_a(d,x,Mu):\n",
    "    a = 2.0/L[0]\n",
    "    t = 0.9\n",
    "    eps = 0.5\n",
    "    while True:\n",
    "        f1 = funf(x - a*d,Mu)\n",
    "        f2 = funf(x,Mu) - eps*a*np.dot(d, d)\n",
    "        if f1 < f2:\n",
    "            return a\n",
    "        else:\n",
    "            a *= t"
   ]
  },
  {
   "cell_type": "code",
   "execution_count": null,
   "metadata": {},
   "outputs": [],
   "source": [
    "\n"
   ]
  },
  {
   "cell_type": "code",
   "execution_count": 33,
   "metadata": {},
   "outputs": [],
   "source": [
    "x0=np.array([random.random() for i in range(d)])*0\n",
    "y0=np.array([random.random() for i in range(d)])*0"
   ]
  },
  {
   "cell_type": "code",
   "execution_count": 34,
   "metadata": {},
   "outputs": [],
   "source": [
    "z=x0+3\n",
    "q=x0+10"
   ]
  },
  {
   "cell_type": "code",
   "execution_count": 35,
   "metadata": {},
   "outputs": [
    {
     "data": {
      "text/plain": [
       "array([30., 30., 30., 30., 30., 30., 30., 30., 30., 30., 30., 30., 30.,\n",
       "       30., 30., 30., 30., 30., 30., 30., 30., 30., 30., 30., 30., 30.,\n",
       "       30., 30., 30., 30., 30., 30., 30., 30., 30., 30., 30., 30., 30.,\n",
       "       30., 30., 30., 30., 30., 30., 30., 30., 30., 30., 30., 30., 30.,\n",
       "       30., 30., 30., 30., 30., 30., 30., 30., 30., 30., 30., 30., 30.,\n",
       "       30., 30., 30., 30., 30., 30., 30., 30., 30., 30., 30., 30., 30.,\n",
       "       30., 30., 30., 30., 30., 30., 30., 30., 30., 30., 30., 30., 30.,\n",
       "       30., 30., 30., 30., 30., 30., 30., 30., 30., 30., 30., 30., 30.,\n",
       "       30., 30., 30., 30., 30., 30., 30., 30.])"
      ]
     },
     "execution_count": 35,
     "metadata": {},
     "output_type": "execute_result"
    }
   ],
   "source": [
    "z*q"
   ]
  },
  {
   "cell_type": "markdown",
   "metadata": {},
   "source": [
    "### Универсальный градиентный спуск"
   ]
  },
  {
   "cell_type": "markdown",
   "metadata": {},
   "source": []
  },
  {
   "cell_type": "markdown",
   "metadata": {},
   "source": [
    "Универсальный с подбором константы L"
   ]
  },
  {
   "cell_type": "code",
   "execution_count": 361,
   "metadata": {},
   "outputs": [],
   "source": [
    "def UGD(x00,epsilon, Mu,L):\n",
    "    a_1 = []\n",
    "    xk = x00\n",
    "    xk1=0\n",
    "    fx=[]\n",
    "    Lk=L\n",
    "    Lk1=0\n",
    "    gradfx=[]\n",
    "    kN=0\n",
    "    gr=0\n",
    "    fk=0\n",
    "    fk1=0\n",
    "    d=0\n",
    "    grnorm=0\n",
    "    \n",
    "    \n",
    "    while((LA.norm(grad(xk,Mu)))>=(epsilon)):\n",
    "    #for i in range(300):\n",
    "        a=1.0/Lk\n",
    "        gr=grad(xk,Mu)\n",
    "        xk1=xk-a*gr\n",
    "        fk=funf(xk,Mu)\n",
    "        fk1=funf(xk1,Mu)\n",
    "        d=fk+grad(xk,Mu).dot(xk1-xk)+Lk/2.0*(LA.norm(xk1-xk))**2+epsilon**3-fk1\n",
    "        if (d>=0):\n",
    "            #Lk=Lk/sqrt(2.0)\n",
    "            Lk=Lk/2.0\n",
    "            xk=xk1\n",
    "        else:\n",
    "            #Lk=Lk*sqrt(2.0)\n",
    "            Lk=Lk*2.0\n",
    "        grnorm=LA.norm(gr)**2\n",
    "        gradfx.append(grnorm)\n",
    "        fx.append(funf(xk,Mu))\n",
    "        kN=kN+1\n",
    "    \n",
    "    return (kN,fx,gradfx)  \n",
    "        "
   ]
  },
  {
   "cell_type": "code",
   "execution_count": 298,
   "metadata": {},
   "outputs": [],
   "source": [
    "Lk=1\n",
    "xk=x0\n",
    "xk1=x0+1\n",
    "fk=funf(xk,MU[0])\n",
    "fk1=funf(xk1,MU[0])\n",
    "d=fk1-fk+grad(xk,MU[0]).dot(xk1-xk)+Lk/2*LA.norm(xk1-xk)**2"
   ]
  },
  {
   "cell_type": "code",
   "execution_count": null,
   "metadata": {},
   "outputs": [],
   "source": []
  },
  {
   "cell_type": "code",
   "execution_count": 362,
   "metadata": {},
   "outputs": [],
   "source": [
    "res_UGD=[]\n",
    "for i in range(4):\n",
    "    res_UGD.append(UGD(x0,epsilon,MU[i],L[i]))"
   ]
  },
  {
   "cell_type": "code",
   "execution_count": 363,
   "metadata": {},
   "outputs": [
    {
     "data": {
      "image/png": "[encoded data removed]",
      "text/plain": [
       "<Figure size 432x288 with 1 Axes>"
      ]
     },
     "metadata": {
      "needs_background": "light"
     },
     "output_type": "display_data"
    }
   ],
   "source": [
    "for i in range(4):\n",
    "    plt.xlabel('iteration')\n",
    "    plt.ylabel('f')\n",
    "    plt.plot(res_UGD[i][1])\n",
    "plt.show()"
   ]
  },
  {
   "cell_type": "code",
   "execution_count": 365,
   "metadata": {},
   "outputs": [
    {
     "data": {
      "image/png": "[encoded data removed]",
      "text/plain": [
       "<Figure size 432x288 with 1 Axes>"
      ]
     },
     "metadata": {
      "needs_background": "light"
     },
     "output_type": "display_data"
    }
   ],
   "source": [
    "for i in range(4):\n",
    "    plt.xlabel('iteration')\n",
    "    plt.ylabel('||grad_f||')\n",
    "    plt.plot(res_UGD[i][2])\n",
    "plt.show()"
   ]
  },
  {
   "cell_type": "code",
   "execution_count": 366,
   "metadata": {
    "scrolled": true
   },
   "outputs": [
    {
     "name": "stdout",
     "output_type": "stream",
     "text": [
      "Universal GD num of it: 13 ,mu= 0.5833333333333333\n",
      "Universal GD num of it: 67 ,mu= 0.053030303030303025\n",
      "Universal GD num of it: 192 ,mu= 0.005255255255255255\n",
      "Universal GD num of it: 320 ,mu= 0.000525052505250525\n"
     ]
    }
   ],
   "source": [
    "for i in range(4):\n",
    "    print(\"Universal GD num of it:\", gdb[i][0], \",mu=\", MU[i])"
   ]
  },
  {
   "cell_type": "code",
   "execution_count": 300,
   "metadata": {},
   "outputs": [],
   "source": []
  },
  {
   "cell_type": "code",
   "execution_count": null,
   "metadata": {},
   "outputs": [],
   "source": []
  },
  {
   "cell_type": "code",
   "execution_count": null,
   "metadata": {},
   "outputs": [],
   "source": []
  },
  {
   "cell_type": "code",
   "execution_count": 303,
   "metadata": {
    "scrolled": true
   },
   "outputs": [],
   "source": [
    "def a_grad(x, mu1):\n",
    "    sumg=0\n",
    "\n",
    "    Ax=csr_matrix.dot(A,x)\n",
    "    for i in range(n):\n",
    "        npa=csr_matrix.toarray(csr_matrix.getrow(A,i))\n",
    "        zq=np.array([])\n",
    "        zq=npa[0,]\n",
    "        grad_i=(-1*y[i]*zq*np.exp(-y[i]*Ax[i], dtype=np.float128))/(1+np.exp(-y[i]*Ax[i], dtype=np.float128))+mu1*x\n",
    "        sumg=sumg+grad_i\n",
    "        \n",
    "    return(sumg/n)"
   ]
  },
  {
   "cell_type": "code",
   "execution_count": 304,
   "metadata": {},
   "outputs": [],
   "source": [
    "def AGD(x00,epsilon, Mu,L):\n",
    "    a_1 = []\n",
    "    xk = x00\n",
    "    fx=[]\n",
    "    gradfx=[]\n",
    "    kN=0\n",
    "    gr=0\n",
    "    sgr=0\n",
    "    grnorm=0\n",
    "    G0=np.array([random.random() for i in range(d)])*0\n",
    "    a0=2.0/L\n",
    "    a=np.array([random.random() for i in range(d)])*0\n",
    "    \n",
    "    while((LA.norm(grad(xk,Mu)))>=(epsilon)):\n",
    "        \n",
    "        #a=2.0/L[0]\n",
    "        gr=grad(xk,Mu)\n",
    "        sgr=gr**2\n",
    "        G0=G0+sgr #делаем эту матрицу G, суммируя квадраты частных производных\n",
    "        for i in range(d):\n",
    "            a[i]=a0/(sqrt(G0[i])+0.00000001)\n",
    "            \n",
    "        grnorm=LA.norm(gr)**2\n",
    "        gradfx.append(grnorm)\n",
    "        fx.append(funf(xk,Mu))\n",
    "        xk1=xk-a*gr\n",
    "        xk=xk1\n",
    "        kN=kN+1\n",
    "    \n",
    "    return (kN,fx,gradfx) \n",
    "   # return fx"
   ]
  },
  {
   "cell_type": "code",
   "execution_count": null,
   "metadata": {},
   "outputs": [],
   "source": []
  },
  {
   "cell_type": "raw",
   "metadata": {},
   "source": []
  },
  {
   "cell_type": "code",
   "execution_count": 305,
   "metadata": {},
   "outputs": [
    {
     "ename": "TypeError",
     "evalue": "'numpy.float64' object cannot be interpreted as an integer",
     "output_type": "error",
     "traceback": [
      "\u001b[0;31m---------------------------------------------------------------------------\u001b[0m",
      "\u001b[0;31mTypeError\u001b[0m                                 Traceback (most recent call last)",
      "\u001b[0;32m<ipython-input-305-d2e6aeebc535>\u001b[0m in \u001b[0;36m<module>\u001b[0;34m\u001b[0m\n\u001b[0;32m----> 1\u001b[0;31m \u001b[0mres_agd\u001b[0m\u001b[0;34m=\u001b[0m\u001b[0mAGD\u001b[0m\u001b[0;34m(\u001b[0m\u001b[0mx0\u001b[0m\u001b[0;34m,\u001b[0m\u001b[0mepsilon\u001b[0m\u001b[0;34m,\u001b[0m\u001b[0mMU\u001b[0m\u001b[0;34m[\u001b[0m\u001b[0;36m0\u001b[0m\u001b[0;34m]\u001b[0m\u001b[0;34m,\u001b[0m\u001b[0mL\u001b[0m\u001b[0;34m[\u001b[0m\u001b[0;36m0\u001b[0m\u001b[0;34m]\u001b[0m\u001b[0;34m)\u001b[0m\u001b[0;34m\u001b[0m\u001b[0;34m\u001b[0m\u001b[0m\n\u001b[0m",
      "\u001b[0;32m<ipython-input-304-134895a1af53>\u001b[0m in \u001b[0;36mAGD\u001b[0;34m(x00, epsilon, Mu, L)\u001b[0m\n\u001b[1;32m      8\u001b[0m     \u001b[0msgr\u001b[0m\u001b[0;34m=\u001b[0m\u001b[0;36m0\u001b[0m\u001b[0;34m\u001b[0m\u001b[0;34m\u001b[0m\u001b[0m\n\u001b[1;32m      9\u001b[0m     \u001b[0mgrnorm\u001b[0m\u001b[0;34m=\u001b[0m\u001b[0;36m0\u001b[0m\u001b[0;34m\u001b[0m\u001b[0;34m\u001b[0m\u001b[0m\n\u001b[0;32m---> 10\u001b[0;31m     \u001b[0mG0\u001b[0m\u001b[0;34m=\u001b[0m\u001b[0mnp\u001b[0m\u001b[0;34m.\u001b[0m\u001b[0marray\u001b[0m\u001b[0;34m(\u001b[0m\u001b[0;34m[\u001b[0m\u001b[0mrandom\u001b[0m\u001b[0;34m.\u001b[0m\u001b[0mrandom\u001b[0m\u001b[0;34m(\u001b[0m\u001b[0;34m)\u001b[0m \u001b[0;32mfor\u001b[0m \u001b[0mi\u001b[0m \u001b[0;32min\u001b[0m \u001b[0mrange\u001b[0m\u001b[0;34m(\u001b[0m\u001b[0md\u001b[0m\u001b[0;34m)\u001b[0m\u001b[0;34m]\u001b[0m\u001b[0;34m)\u001b[0m\u001b[0;34m*\u001b[0m\u001b[0;36m0\u001b[0m\u001b[0;34m\u001b[0m\u001b[0;34m\u001b[0m\u001b[0m\n\u001b[0m\u001b[1;32m     11\u001b[0m     \u001b[0ma0\u001b[0m\u001b[0;34m=\u001b[0m\u001b[0;36m2.0\u001b[0m\u001b[0;34m/\u001b[0m\u001b[0mL\u001b[0m\u001b[0;34m\u001b[0m\u001b[0;34m\u001b[0m\u001b[0m\n\u001b[1;32m     12\u001b[0m     \u001b[0ma\u001b[0m\u001b[0;34m=\u001b[0m\u001b[0mnp\u001b[0m\u001b[0;34m.\u001b[0m\u001b[0marray\u001b[0m\u001b[0;34m(\u001b[0m\u001b[0;34m[\u001b[0m\u001b[0mrandom\u001b[0m\u001b[0;34m.\u001b[0m\u001b[0mrandom\u001b[0m\u001b[0;34m(\u001b[0m\u001b[0;34m)\u001b[0m \u001b[0;32mfor\u001b[0m \u001b[0mi\u001b[0m \u001b[0;32min\u001b[0m \u001b[0mrange\u001b[0m\u001b[0;34m(\u001b[0m\u001b[0md\u001b[0m\u001b[0;34m)\u001b[0m\u001b[0;34m]\u001b[0m\u001b[0;34m)\u001b[0m\u001b[0;34m*\u001b[0m\u001b[0;36m0\u001b[0m\u001b[0;34m\u001b[0m\u001b[0;34m\u001b[0m\u001b[0m\n",
      "\u001b[0;31mTypeError\u001b[0m: 'numpy.float64' object cannot be interpreted as an integer"
     ]
    }
   ],
   "source": []
  },
  {
   "cell_type": "code",
   "execution_count": 93,
   "metadata": {},
   "outputs": [],
   "source": [
    "agd=[]\n",
    "for i in range(4):\n",
    "    agd.append(AGD(x0,epsilon,MU[i],L[i]))"
   ]
  },
  {
   "cell_type": "code",
   "execution_count": 115,
   "metadata": {},
   "outputs": [
    {
     "data": {
      "image/png": "[encoded data removed]",
      "text/plain": [
       "<Figure size 432x288 with 1 Axes>"
      ]
     },
     "metadata": {
      "needs_background": "light"
     },
     "output_type": "display_data"
    }
   ],
   "source": [
    "for i in range(4):\n",
    "    plt.xlabel('iteration')\n",
    "    plt.ylabel('||grad(f)||')\n",
    "    plt.plot(agd[i][1])\n",
    "plt.show()"
   ]
  },
  {
   "cell_type": "code",
   "execution_count": 113,
   "metadata": {},
   "outputs": [
    {
     "name": "stdout",
     "output_type": "stream",
     "text": [
      "Adaptive GD num of it: 71 ,mu= 0.5833333333333333\n",
      "Adaptive GD num of it: 90 ,mu= 0.053030303030303025\n",
      "Adaptive GD num of it: 599 ,mu= 0.005255255255255255\n",
      "Adaptive GD num of it: 3030 ,mu= 0.000525052505250525\n"
     ]
    }
   ],
   "source": [
    "for i in range(4):\n",
    "    print(\"Adaptive GD num of it:\", agd[i][0], \",mu=\", MU[i])"
   ]
  },
  {
   "cell_type": "code",
   "execution_count": null,
   "metadata": {},
   "outputs": [],
   "source": []
  },
  {
   "cell_type": "code",
   "execution_count": 69,
   "metadata": {},
   "outputs": [],
   "source": [
    "# обычный ГрадСпуск с Армихо - получается медленее адаптивного"
   ]
  },
  {
   "cell_type": "code",
   "execution_count": 306,
   "metadata": {},
   "outputs": [],
   "source": [
    "def GD(x00,epsilon, Mu):\n",
    "    a_1 = []\n",
    "    xk = x00\n",
    "    fx=[]\n",
    "    gradfx=[]\n",
    "    kN=0\n",
    "    gr=0\n",
    "    grnorm=0\n",
    "    while((LA.norm(grad(xk,Mu)))>=(epsilon)):\n",
    "        a = get_a(grad(xk,Mu),xk,Mu)\n",
    "        #a=2.0/L[0]\n",
    "        gr=grad(xk,Mu)\n",
    "        grnorm=LA.norm(gr)**2\n",
    "        gradfx.append(grnorm)\n",
    "        fx.append(funf(xk,Mu))\n",
    "        xk1=xk-a*gr\n",
    "        xk=xk1\n",
    "        kN=kN+1\n",
    "    \n",
    "    return (kN,fx,gradfx)  \n",
    "        \n",
    "        \n",
    "        \n",
    "        "
   ]
  },
  {
   "cell_type": "code",
   "execution_count": 307,
   "metadata": {},
   "outputs": [],
   "source": [
    "gd_data=GD(x0,epsilon, MU[0])"
   ]
  },
  {
   "cell_type": "code",
   "execution_count": 308,
   "metadata": {},
   "outputs": [
    {
     "data": {
      "text/plain": [
       "[<matplotlib.lines.Line2D at 0x7ffaf702a450>]"
      ]
     },
     "execution_count": 308,
     "metadata": {},
     "output_type": "execute_result"
    },
    {
     "data": {
      "image/png": "[encoded data removed]",
      "text/plain": [
       "<Figure size 432x288 with 1 Axes>"
      ]
     },
     "metadata": {
      "needs_background": "light"
     },
     "output_type": "display_data"
    }
   ],
   "source": [
    "plt.plot(gd_data[1])"
   ]
  },
  {
   "cell_type": "code",
   "execution_count": 309,
   "metadata": {},
   "outputs": [],
   "source": [
    "gdb=[]\n",
    "for i in range(4):\n",
    "    gdb.append(GD(x0,epsilon,MU[i]))"
   ]
  },
  {
   "cell_type": "code",
   "execution_count": 310,
   "metadata": {},
   "outputs": [
    {
     "data": {
      "image/png": "[encoded data removed]",
      "text/plain": [
       "<Figure size 432x288 with 1 Axes>"
      ]
     },
     "metadata": {
      "needs_background": "light"
     },
     "output_type": "display_data"
    }
   ],
   "source": [
    "for i in range(4):\n",
    "    plt.xlabel('iteration')\n",
    "    plt.ylabel('f(x)')\n",
    "    plt.plot(gdb[i][1])\n",
    "plt.show()"
   ]
  },
  {
   "cell_type": "code",
   "execution_count": 311,
   "metadata": {},
   "outputs": [
    {
     "data": {
      "image/png": "[encoded data removed]",
      "text/plain": [
       "<Figure size 432x288 with 1 Axes>"
      ]
     },
     "metadata": {
      "needs_background": "light"
     },
     "output_type": "display_data"
    }
   ],
   "source": [
    "for i in range(4):\n",
    "    plt.xlabel('iteration')\n",
    "    plt.ylabel('||grad_f(x)||')\n",
    "    plt.plot(gdb[i][2])\n",
    "plt.show()"
   ]
  },
  {
   "cell_type": "code",
   "execution_count": 312,
   "metadata": {},
   "outputs": [
    {
     "data": {
      "text/plain": [
       "0.2499428571428572"
      ]
     },
     "execution_count": 312,
     "metadata": {},
     "output_type": "execute_result"
    }
   ],
   "source": [
    "get_a(grad(x0, MU[0]),x0,MU[0])"
   ]
  },
  {
   "cell_type": "code",
   "execution_count": 313,
   "metadata": {},
   "outputs": [
    {
     "name": "stdout",
     "output_type": "stream",
     "text": [
      "GD num of it: 13 ,mu= 0.5833333333333333\n",
      "GD num of it: 67 ,mu= 0.053030303030303025\n",
      "GD num of it: 192 ,mu= 0.005255255255255255\n",
      "GD num of it: 320 ,mu= 0.000525052505250525\n"
     ]
    }
   ],
   "source": [
    "for i in range(4):\n",
    "    print(\"GD num of it:\", gdb[i][0], \",mu=\", MU[i])"
   ]
  },
  {
   "cell_type": "markdown",
   "metadata": {},
   "source": [
    "### Ускоренный (оптимальный) метод Нестерова"
   ]
  },
  {
   "cell_type": "code",
   "execution_count": null,
   "metadata": {},
   "outputs": [],
   "source": []
  },
  {
   "cell_type": "code",
   "execution_count": null,
   "metadata": {},
   "outputs": [],
   "source": []
  },
  {
   "cell_type": "code",
   "execution_count": 314,
   "metadata": {},
   "outputs": [],
   "source": [
    "def Nest(x00,y00,kappa,epsilon,Mu):\n",
    "    yk=y00\n",
    "    xk=x00\n",
    "    kN=0\n",
    "    k=1\n",
    "    grnorm=0\n",
    "    #fx=np.array([])\n",
    "    #gradfx=np.array([])\n",
    "    fx=[]\n",
    "    gradfx=[]\n",
    "    a=kappa**2*Mu\n",
    "    while((LA.norm(grad(xk,Mu))))>=(epsilon):\n",
    "        fx.append(funf(xk,Mu))\n",
    "        grnorm=LA.norm(grad(xk,Mu))**2\n",
    "        gradfx.append(grnorm)\n",
    "        xk1=yk-1/a*grad(xk,Mu)\n",
    "        yk1=xk1+(sqrt(kappa)-1)/(sqrt(kappa)+1)*(xk1-xk)\n",
    "        xk=xk1\n",
    "        yk=yk1\n",
    "        kN=kN+1\n",
    "        k=k+1\n",
    "        \n",
    "    return (kN,fx,gradfx,xk)"
   ]
  },
  {
   "cell_type": "code",
   "execution_count": 315,
   "metadata": {},
   "outputs": [],
   "source": [
    "gr=grad(x0,1)"
   ]
  },
  {
   "cell_type": "code",
   "execution_count": null,
   "metadata": {},
   "outputs": [],
   "source": []
  },
  {
   "cell_type": "code",
   "execution_count": null,
   "metadata": {},
   "outputs": [],
   "source": []
  },
  {
   "cell_type": "code",
   "execution_count": null,
   "metadata": {},
   "outputs": [],
   "source": []
  },
  {
   "cell_type": "code",
   "execution_count": null,
   "metadata": {},
   "outputs": [],
   "source": []
  },
  {
   "cell_type": "code",
   "execution_count": null,
   "metadata": {},
   "outputs": [],
   "source": []
  },
  {
   "cell_type": "code",
   "execution_count": null,
   "metadata": {},
   "outputs": [],
   "source": []
  },
  {
   "cell_type": "code",
   "execution_count": 316,
   "metadata": {},
   "outputs": [
    {
     "data": {
      "text/plain": [
       "3.1622776601683795"
      ]
     },
     "execution_count": 316,
     "metadata": {},
     "output_type": "execute_result"
    }
   ],
   "source": [
    "sqrt(L[0]/MU[0])"
   ]
  },
  {
   "cell_type": "code",
   "execution_count": null,
   "metadata": {
    "scrolled": true
   },
   "outputs": [],
   "source": []
  },
  {
   "cell_type": "code",
   "execution_count": null,
   "metadata": {},
   "outputs": [],
   "source": []
  },
  {
   "cell_type": "code",
   "execution_count": 317,
   "metadata": {},
   "outputs": [],
   "source": [
    "b=[]\n",
    "for i in range(4):\n",
    "    kappa=sqrt(L[i]/MU[i])\n",
    "    b.append(Nest(x0,y0,kappa,epsilon,MU[i]))\n",
    "    "
   ]
  },
  {
   "cell_type": "code",
   "execution_count": null,
   "metadata": {},
   "outputs": [],
   "source": []
  },
  {
   "cell_type": "code",
   "execution_count": 318,
   "metadata": {
    "scrolled": true
   },
   "outputs": [
    {
     "data": {
      "image/png": "[encoded data removed]",
      "text/plain": [
       "<Figure size 432x288 with 1 Axes>"
      ]
     },
     "metadata": {
      "needs_background": "light"
     },
     "output_type": "display_data"
    }
   ],
   "source": [
    "for i in range(4):\n",
    "    plt.xlabel('iteration')\n",
    "    plt.ylabel('f(x)')\n",
    "    plt.plot(b[i][1])\n",
    "plt.show()\n"
   ]
  },
  {
   "cell_type": "code",
   "execution_count": null,
   "metadata": {},
   "outputs": [],
   "source": []
  },
  {
   "cell_type": "code",
   "execution_count": 319,
   "metadata": {},
   "outputs": [
    {
     "data": {
      "image/png": "[encoded data removed]",
      "text/plain": [
       "<Figure size 432x288 with 1 Axes>"
      ]
     },
     "metadata": {
      "needs_background": "light"
     },
     "output_type": "display_data"
    }
   ],
   "source": [
    "for i in range(4):\n",
    "    plt.plot(b[i][2])\n",
    "    plt.xlabel('iteration')\n",
    "    plt.ylabel('||grad_f(x)||')\n",
    "plt.show()"
   ]
  },
  {
   "cell_type": "code",
   "execution_count": 320,
   "metadata": {},
   "outputs": [
    {
     "data": {
      "image/png": "[encoded data removed]",
      "text/plain": [
       "<Figure size 432x288 with 1 Axes>"
      ]
     },
     "metadata": {
      "needs_background": "light"
     },
     "output_type": "display_data"
    }
   ],
   "source": [
    "for i in range(2):\n",
    "    plt.plot(b[i][2])\n",
    "    plt.xlabel('iteration')\n",
    "    plt.ylabel('||grad(f)||')\n",
    "    \n",
    "plt.show()"
   ]
  },
  {
   "cell_type": "code",
   "execution_count": null,
   "metadata": {},
   "outputs": [],
   "source": []
  },
  {
   "cell_type": "code",
   "execution_count": null,
   "metadata": {},
   "outputs": [],
   "source": []
  },
  {
   "cell_type": "code",
   "execution_count": null,
   "metadata": {},
   "outputs": [],
   "source": []
  },
  {
   "cell_type": "code",
   "execution_count": 321,
   "metadata": {},
   "outputs": [
    {
     "name": "stdout",
     "output_type": "stream",
     "text": [
      "Nesterov num of it: 17 ,mu= 0.5833333333333333\n",
      "Nesterov num of it: 56 ,mu= 0.053030303030303025\n",
      "Nesterov num of it: 98 ,mu= 0.005255255255255255\n",
      "Nesterov num of it: 89 ,mu= 0.000525052505250525\n"
     ]
    }
   ],
   "source": [
    "for i in range(4):\n",
    "    print(\"Nesterov num of it:\", b[i][0], \",mu=\", MU[i])"
   ]
  },
  {
   "cell_type": "code",
   "execution_count": null,
   "metadata": {},
   "outputs": [],
   "source": []
  },
  {
   "cell_type": "markdown",
   "metadata": {},
   "source": [
    "### Стохастический градиентный спуск"
   ]
  },
  {
   "cell_type": "code",
   "execution_count": 44,
   "metadata": {},
   "outputs": [],
   "source": [
    "def grad_sgd(x, mu1):\n",
    "    sumg=0\n",
    "    Ax=csr_matrix.dot(A,x)\n",
    "    nit=3000\n",
    "    for j in range(nit):\n",
    "        i=int(8123*np.random.rand())\n",
    "        j=i\n",
    "        npa=csr_matrix.toarray(csr_matrix.getrow(A,j))\n",
    "        zq=np.array([])\n",
    "        zq=npa[0,]\n",
    "        grad_i=(-1*y[i]*zq*np.exp(-y[i]*Ax[i], dtype=np.float128))/(1+np.exp(-y[i]*Ax[i], dtype=np.float128))+mu1*x\n",
    "        sumg=sumg+grad_i\n",
    "        \n",
    "    return(sumg/nit)\n",
    "        \n"
   ]
  },
  {
   "cell_type": "code",
   "execution_count": 48,
   "metadata": {},
   "outputs": [],
   "source": [
    "def SGD0(x00,epsilon, Mu,L,i):\n",
    "    a_1 = []\n",
    "    xk = x00\n",
    "    fx=[]\n",
    "    gradfx=[]\n",
    "    kN=0\n",
    "    gr=0\n",
    "    grnorm=0\n",
    " \n",
    "    #while((LA.norm(grad_sgd(xk,Mu)))>=(epsilon*10)):\n",
    "    for j in range(i*100):\n",
    "        #i=int(8123*np.random.rand())\n",
    "        #a = get_a(grad(xk,Mu),xk,Mu)\n",
    "        #a=2.0/L[0]*np.random.rand()\n",
    "        #a=1.0/L/(kN+1)\n",
    "        a=2.0/(Mu*kN+2*L)\n",
    "        #a=1.0/L\n",
    "        gr=grad_sgd(xk,Mu)\n",
    "        grnorm=LA.norm(gr)**2\n",
    "        gradfx.append(grnorm)\n",
    "        fx.append(funf(xk,Mu))\n",
    "        xk1=xk-a*gr\n",
    "        xk=xk1\n",
    "        kN=kN+1\n",
    "    \n",
    "    return (kN,fx,gradfx,xk)  "
   ]
  },
  {
   "cell_type": "code",
   "execution_count": 49,
   "metadata": {},
   "outputs": [],
   "source": [
    "sgd_data0=[]\n",
    "for i in range(4):\n",
    "    sgd_data0.append(SGD0(x0,epsilon,MU[i],L[i],i+1))\n",
    "    # , ЧТО ЕМУ НЕ НРАВИТСЯ, ПОЧЕМУ ЗАВИСАЕТ"
   ]
  },
  {
   "cell_type": "code",
   "execution_count": 50,
   "metadata": {},
   "outputs": [
    {
     "data": {
      "image/png": "[encoded data removed]",
      "text/plain": [
       "<Figure size 432x288 with 1 Axes>"
      ]
     },
     "metadata": {
      "needs_background": "light"
     },
     "output_type": "display_data"
    }
   ],
   "source": [
    "for i in range(4):\n",
    "    plt.xlabel('iteration')\n",
    "    plt.ylabel('f(x)')\n",
    "    plt.plot(sgd_data0[i][1])\n",
    "plt.show()"
   ]
  },
  {
   "cell_type": "code",
   "execution_count": 51,
   "metadata": {
    "scrolled": true
   },
   "outputs": [
    {
     "data": {
      "image/png": "[encoded data removed]",
      "text/plain": [
       "<Figure size 432x288 with 1 Axes>"
      ]
     },
     "metadata": {
      "needs_background": "light"
     },
     "output_type": "display_data"
    }
   ],
   "source": [
    "for i in range(4):\n",
    "    plt.xlabel('iteration')\n",
    "    plt.ylabel('||grad_f(x)||')\n",
    "    plt.plot(sgd_data0[i][2])\n",
    "plt.show()"
   ]
  },
  {
   "cell_type": "code",
   "execution_count": null,
   "metadata": {},
   "outputs": [],
   "source": []
  },
  {
   "cell_type": "code",
   "execution_count": 52,
   "metadata": {},
   "outputs": [],
   "source": [
    "def SGD(x00,epsilon, Mu,L):\n",
    "    a_1 = []\n",
    "    xk = x00\n",
    "    fx=[]\n",
    "    gradfx=[]\n",
    "    kN=0\n",
    "    gr=0\n",
    "    grnorm=0\n",
    "    while((LA.norm(grad(xk,Mu)))>=(epsilon)):\n",
    "        #a = get_a(grad(xk,Mu),xk,Mu)\n",
    "        #a=2.0/L[0]*np.random.rand()\n",
    "        a=2.0/L\n",
    "        gr=grad(xk,Mu)*(0.8+np.random.rand()*0.4)\n",
    "        grnorm=LA.norm(gr)**2\n",
    "        gradfx.append(grnorm)\n",
    "        fx.append(funf(xk,Mu))\n",
    "        xk1=xk-a*gr\n",
    "        xk=xk1\n",
    "        kN=kN+1\n",
    "    \n",
    "    return (kN,fx,gradfx)  "
   ]
  },
  {
   "cell_type": "code",
   "execution_count": null,
   "metadata": {},
   "outputs": [],
   "source": []
  },
  {
   "cell_type": "code",
   "execution_count": 53,
   "metadata": {},
   "outputs": [],
   "source": [
    "#sgd_data1=[]\n",
    "#for i in range(1):\n",
    "#    sgd_data1.append(SGD(x0,epsilon,MU[i],L[i]))"
   ]
  },
  {
   "cell_type": "raw",
   "metadata": {},
   "source": []
  },
  {
   "cell_type": "code",
   "execution_count": 54,
   "metadata": {},
   "outputs": [],
   "source": [
    "sgd_data=[]\n",
    "for i in range(4):\n",
    "    sgd_data.append(SGD(x0,epsilon,MU[i],L[i]))"
   ]
  },
  {
   "cell_type": "code",
   "execution_count": 55,
   "metadata": {},
   "outputs": [
    {
     "data": {
      "image/png": "[encoded data removed]",
      "text/plain": [
       "<Figure size 432x288 with 1 Axes>"
      ]
     },
     "metadata": {
      "needs_background": "light"
     },
     "output_type": "display_data"
    }
   ],
   "source": [
    "for i in range(4):\n",
    "    plt.xlabel('iteration')\n",
    "    plt.ylabel('f(x)')\n",
    "    plt.plot(sgd_data[i][1])\n",
    "plt.show()"
   ]
  },
  {
   "cell_type": "code",
   "execution_count": 56,
   "metadata": {},
   "outputs": [
    {
     "data": {
      "image/png": "[encoded data removed]",
      "text/plain": [
       "<Figure size 432x288 with 1 Axes>"
      ]
     },
     "metadata": {
      "needs_background": "light"
     },
     "output_type": "display_data"
    }
   ],
   "source": [
    "for i in range(4):\n",
    "    plt.xlabel('iteration')\n",
    "    plt.ylabel('grad_f(x)')\n",
    "    plt.plot(sgd_data[i][2])\n",
    "plt.show()"
   ]
  },
  {
   "cell_type": "code",
   "execution_count": 57,
   "metadata": {},
   "outputs": [
    {
     "name": "stdout",
     "output_type": "stream",
     "text": [
      "SGD num of it: 13 ,mu= 0.5833333333333333\n",
      "SGD num of it: 62 ,mu= 0.053030303030303025\n",
      "SGD num of it: 166 ,mu= 0.005255255255255255\n",
      "SGD num of it: 290 ,mu= 0.000525052505250525\n"
     ]
    }
   ],
   "source": [
    "for i in range(4):\n",
    "    print(\"SGD num of it:\", sgd_data[i][0], \",mu=\", MU[i])"
   ]
  },
  {
   "cell_type": "code",
   "execution_count": null,
   "metadata": {},
   "outputs": [],
   "source": []
  },
  {
   "cell_type": "code",
   "execution_count": null,
   "metadata": {},
   "outputs": [],
   "source": []
  },
  {
   "cell_type": "code",
   "execution_count": null,
   "metadata": {},
   "outputs": [],
   "source": []
  },
  {
   "cell_type": "code",
   "execution_count": null,
   "metadata": {},
   "outputs": [],
   "source": []
  },
  {
   "cell_type": "code",
   "execution_count": null,
   "metadata": {},
   "outputs": [],
   "source": []
  },
  {
   "cell_type": "code",
   "execution_count": null,
   "metadata": {},
   "outputs": [],
   "source": []
  },
  {
   "cell_type": "code",
   "execution_count": null,
   "metadata": {},
   "outputs": [],
   "source": []
  },
  {
   "cell_type": "code",
   "execution_count": null,
   "metadata": {},
   "outputs": [],
   "source": []
  },
  {
   "cell_type": "code",
   "execution_count": null,
   "metadata": {},
   "outputs": [],
   "source": []
  },
  {
   "cell_type": "code",
   "execution_count": null,
   "metadata": {},
   "outputs": [],
   "source": []
  },
  {
   "cell_type": "code",
   "execution_count": null,
   "metadata": {},
   "outputs": [],
   "source": []
  },
  {
   "cell_type": "code",
   "execution_count": null,
   "metadata": {},
   "outputs": [],
   "source": []
  },
  {
   "cell_type": "code",
   "execution_count": null,
   "metadata": {},
   "outputs": [],
   "source": []
  },
  {
   "cell_type": "code",
   "execution_count": null,
   "metadata": {},
   "outputs": [],
   "source": [
    " "
   ]
  },
  {
   "cell_type": "code",
   "execution_count": null,
   "metadata": {},
   "outputs": [],
   "source": []
  },
  {
   "cell_type": "code",
   "execution_count": null,
   "metadata": {},
   "outputs": [],
   "source": []
  },
  {
   "cell_type": "code",
   "execution_count": null,
   "metadata": {},
   "outputs": [],
   "source": []
  },
  {
   "cell_type": "code",
   "execution_count": null,
   "metadata": {},
   "outputs": [],
   "source": []
  },
  {
   "cell_type": "code",
   "execution_count": null,
   "metadata": {},
   "outputs": [],
   "source": []
  },
  {
   "cell_type": "code",
   "execution_count": null,
   "metadata": {},
   "outputs": [],
   "source": []
  }
 ],
 "metadata": {
  "kernelspec": {
   "display_name": "Python 3",
   "language": "python",
   "name": "python3"
  },
  "language_info": {
   "codemirror_mode": {
    "name": "ipython",
    "version": 3
   },
   "file_extension": ".py",
   "mimetype": "text/x-python",
   "name": "python",
   "nbconvert_exporter": "python",
   "pygments_lexer": "ipython3",
   "version": "3.7.4"
  }
 },
 "nbformat": 4,
 "nbformat_minor": 2
}
